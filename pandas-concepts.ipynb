{
 "cells": [
  {
   "cell_type": "code",
   "execution_count": 1,
   "id": "b5162412",
   "metadata": {},
   "outputs": [],
   "source": [
    "# Importing required packages\n",
    "import pandas as pd\n",
    "import numpy as np\n",
    "import seaborn as sns\n",
    "import matplotlib.pyplot as plt"
   ]
  },
  {
   "cell_type": "markdown",
   "id": "08d189c9",
   "metadata": {},
   "source": [
    "### DataFrame & Series\n",
    "`DataFrames` & `Series` can be thought of as dictionaries associating keys to lists of values"
   ]
  },
  {
   "cell_type": "code",
   "execution_count": 2,
   "id": "4dd08886",
   "metadata": {},
   "outputs": [
    {
     "data": {
      "text/plain": [
       "{'Id': [1001, 1002, 1003, 1004, 1005],\n",
       " 'Name': ['John', 'Tom', 'Harry', 'Tim', 'Bill']}"
      ]
     },
     "execution_count": 2,
     "metadata": {},
     "output_type": "execute_result"
    }
   ],
   "source": [
    "# Create data dictionary\n",
    "data = {'Id': [1001, 1002, 1003, 1004, 1005], 'Name': ['John', 'Tom', 'Harry', 'Tim', 'Bill']}\n",
    "data"
   ]
  },
  {
   "cell_type": "markdown",
   "id": "435829ec",
   "metadata": {},
   "source": [
    "A `series` corresponds to just a single list of values"
   ]
  },
  {
   "cell_type": "code",
   "execution_count": 3,
   "id": "fba8bdd1",
   "metadata": {},
   "outputs": [
    {
     "data": {
      "text/plain": [
       "0    1001\n",
       "1    1002\n",
       "2    1003\n",
       "3    1004\n",
       "4    1005\n",
       "dtype: int64"
      ]
     },
     "execution_count": 3,
     "metadata": {},
     "output_type": "execute_result"
    }
   ],
   "source": [
    "series = pd.Series(data['Id'])\n",
    "series"
   ]
  },
  {
   "cell_type": "markdown",
   "id": "b88be05c",
   "metadata": {},
   "source": [
    "Whereas `DataFrame` has multiple `series`"
   ]
  },
  {
   "cell_type": "code",
   "execution_count": 4,
   "id": "bd9002c9",
   "metadata": {},
   "outputs": [
    {
     "data": {
      "text/html": [
       "<div>\n",
       "<style scoped>\n",
       "    .dataframe tbody tr th:only-of-type {\n",
       "        vertical-align: middle;\n",
       "    }\n",
       "\n",
       "    .dataframe tbody tr th {\n",
       "        vertical-align: top;\n",
       "    }\n",
       "\n",
       "    .dataframe thead th {\n",
       "        text-align: right;\n",
       "    }\n",
       "</style>\n",
       "<table border=\"1\" class=\"dataframe\">\n",
       "  <thead>\n",
       "    <tr style=\"text-align: right;\">\n",
       "      <th></th>\n",
       "      <th>Id</th>\n",
       "      <th>Name</th>\n",
       "    </tr>\n",
       "  </thead>\n",
       "  <tbody>\n",
       "    <tr>\n",
       "      <th>0</th>\n",
       "      <td>1001</td>\n",
       "      <td>John</td>\n",
       "    </tr>\n",
       "    <tr>\n",
       "      <th>1</th>\n",
       "      <td>1002</td>\n",
       "      <td>Tom</td>\n",
       "    </tr>\n",
       "    <tr>\n",
       "      <th>2</th>\n",
       "      <td>1003</td>\n",
       "      <td>Harry</td>\n",
       "    </tr>\n",
       "    <tr>\n",
       "      <th>3</th>\n",
       "      <td>1004</td>\n",
       "      <td>Tim</td>\n",
       "    </tr>\n",
       "    <tr>\n",
       "      <th>4</th>\n",
       "      <td>1005</td>\n",
       "      <td>Bill</td>\n",
       "    </tr>\n",
       "  </tbody>\n",
       "</table>\n",
       "</div>"
      ],
      "text/plain": [
       "     Id   Name\n",
       "0  1001   John\n",
       "1  1002    Tom\n",
       "2  1003  Harry\n",
       "3  1004    Tim\n",
       "4  1005   Bill"
      ]
     },
     "execution_count": 4,
     "metadata": {},
     "output_type": "execute_result"
    }
   ],
   "source": [
    "df = pd.DataFrame(data)\n",
    "df"
   ]
  },
  {
   "cell_type": "markdown",
   "id": "f7337b96",
   "metadata": {},
   "source": [
    "Each series can have it's own datatype `dtype`"
   ]
  },
  {
   "cell_type": "code",
   "execution_count": 5,
   "id": "dc86fda7",
   "metadata": {},
   "outputs": [
    {
     "data": {
      "text/plain": [
       "Id       int64\n",
       "Name    object\n",
       "dtype: object"
      ]
     },
     "execution_count": 5,
     "metadata": {},
     "output_type": "execute_result"
    }
   ],
   "source": [
    "df.dtypes"
   ]
  },
  {
   "cell_type": "markdown",
   "id": "7b1240b7",
   "metadata": {},
   "source": [
    "To retrieve the underlying `series` we just need to `subset DataFrame by column name`"
   ]
  },
  {
   "cell_type": "code",
   "execution_count": 6,
   "id": "a72330f8",
   "metadata": {},
   "outputs": [
    {
     "data": {
      "text/plain": [
       "0     John\n",
       "1      Tom\n",
       "2    Harry\n",
       "3      Tim\n",
       "4     Bill\n",
       "Name: Name, dtype: object"
      ]
     },
     "execution_count": 6,
     "metadata": {},
     "output_type": "execute_result"
    }
   ],
   "source": [
    "df['Name']"
   ]
  },
  {
   "cell_type": "code",
   "execution_count": 7,
   "id": "2cda6ebe",
   "metadata": {},
   "outputs": [
    {
     "data": {
      "text/plain": [
       "pandas.core.series.Series"
      ]
     },
     "execution_count": 7,
     "metadata": {},
     "output_type": "execute_result"
    }
   ],
   "source": [
    "# Retrieve underlying series\n",
    "type(df['Name'])"
   ]
  },
  {
   "cell_type": "markdown",
   "id": "91f32c76",
   "metadata": {},
   "source": [
    "Both `columns` and `index` values have types and possible names"
   ]
  },
  {
   "cell_type": "code",
   "execution_count": 8,
   "id": "f7fda0aa",
   "metadata": {},
   "outputs": [
    {
     "data": {
      "text/plain": [
       "Index(['Id', 'Name'], dtype='object')"
      ]
     },
     "execution_count": 8,
     "metadata": {},
     "output_type": "execute_result"
    }
   ],
   "source": [
    "df.columns"
   ]
  },
  {
   "cell_type": "code",
   "execution_count": 9,
   "id": "5ac8b04b",
   "metadata": {},
   "outputs": [
    {
     "data": {
      "text/plain": [
       "RangeIndex(start=0, stop=5, step=1)"
      ]
     },
     "execution_count": 9,
     "metadata": {},
     "output_type": "execute_result"
    }
   ],
   "source": [
    "df.index"
   ]
  },
  {
   "cell_type": "markdown",
   "id": "337a9b21",
   "metadata": {},
   "source": [
    "To check `shape` and `dimensions` of the DataFrame"
   ]
  },
  {
   "cell_type": "code",
   "execution_count": 10,
   "id": "d6c36e76",
   "metadata": {},
   "outputs": [
    {
     "data": {
      "text/plain": [
       "(5, 2)"
      ]
     },
     "execution_count": 10,
     "metadata": {},
     "output_type": "execute_result"
    }
   ],
   "source": [
    "# (Row, Column)\n",
    "df.shape"
   ]
  },
  {
   "cell_type": "code",
   "execution_count": 11,
   "id": "fb42a7f3",
   "metadata": {},
   "outputs": [
    {
     "data": {
      "text/plain": [
       "2"
      ]
     },
     "execution_count": 11,
     "metadata": {},
     "output_type": "execute_result"
    }
   ],
   "source": [
    "df.ndim"
   ]
  },
  {
   "cell_type": "markdown",
   "id": "71cccc5e",
   "metadata": {},
   "source": [
    "To `rename` index and column names"
   ]
  },
  {
   "cell_type": "code",
   "execution_count": 12,
   "id": "733389a2",
   "metadata": {},
   "outputs": [
    {
     "data": {
      "text/html": [
       "<div>\n",
       "<style scoped>\n",
       "    .dataframe tbody tr th:only-of-type {\n",
       "        vertical-align: middle;\n",
       "    }\n",
       "\n",
       "    .dataframe tbody tr th {\n",
       "        vertical-align: top;\n",
       "    }\n",
       "\n",
       "    .dataframe thead th {\n",
       "        text-align: right;\n",
       "    }\n",
       "</style>\n",
       "<table border=\"1\" class=\"dataframe\">\n",
       "  <thead>\n",
       "    <tr style=\"text-align: right;\">\n",
       "      <th></th>\n",
       "      <th>ID</th>\n",
       "      <th>NAME</th>\n",
       "    </tr>\n",
       "  </thead>\n",
       "  <tbody>\n",
       "    <tr>\n",
       "      <th>row_0</th>\n",
       "      <td>1001</td>\n",
       "      <td>John</td>\n",
       "    </tr>\n",
       "    <tr>\n",
       "      <th>row_1</th>\n",
       "      <td>1002</td>\n",
       "      <td>Tom</td>\n",
       "    </tr>\n",
       "    <tr>\n",
       "      <th>row_2</th>\n",
       "      <td>1003</td>\n",
       "      <td>Harry</td>\n",
       "    </tr>\n",
       "    <tr>\n",
       "      <th>row_3</th>\n",
       "      <td>1004</td>\n",
       "      <td>Tim</td>\n",
       "    </tr>\n",
       "    <tr>\n",
       "      <th>row_4</th>\n",
       "      <td>1005</td>\n",
       "      <td>Bill</td>\n",
       "    </tr>\n",
       "  </tbody>\n",
       "</table>\n",
       "</div>"
      ],
      "text/plain": [
       "         ID   NAME\n",
       "row_0  1001   John\n",
       "row_1  1002    Tom\n",
       "row_2  1003  Harry\n",
       "row_3  1004    Tim\n",
       "row_4  1005   Bill"
      ]
     },
     "execution_count": 12,
     "metadata": {},
     "output_type": "execute_result"
    }
   ],
   "source": [
    "df.index = ['row_' + str(index) for index in range(len(df))]\n",
    "df.columns = ['ID', 'NAME']\n",
    "df"
   ]
  },
  {
   "cell_type": "markdown",
   "id": "1797ad85",
   "metadata": {},
   "source": [
    "#### Subsetting"
   ]
  },
  {
   "cell_type": "markdown",
   "id": "d7a19d77",
   "metadata": {},
   "source": [
    "To access top/bottom `N` number of values,"
   ]
  },
  {
   "cell_type": "code",
   "execution_count": 13,
   "id": "73323a62",
   "metadata": {},
   "outputs": [
    {
     "data": {
      "text/html": [
       "<div>\n",
       "<style scoped>\n",
       "    .dataframe tbody tr th:only-of-type {\n",
       "        vertical-align: middle;\n",
       "    }\n",
       "\n",
       "    .dataframe tbody tr th {\n",
       "        vertical-align: top;\n",
       "    }\n",
       "\n",
       "    .dataframe thead th {\n",
       "        text-align: right;\n",
       "    }\n",
       "</style>\n",
       "<table border=\"1\" class=\"dataframe\">\n",
       "  <thead>\n",
       "    <tr style=\"text-align: right;\">\n",
       "      <th></th>\n",
       "      <th>ID</th>\n",
       "      <th>NAME</th>\n",
       "    </tr>\n",
       "  </thead>\n",
       "  <tbody>\n",
       "    <tr>\n",
       "      <th>row_0</th>\n",
       "      <td>1001</td>\n",
       "      <td>John</td>\n",
       "    </tr>\n",
       "    <tr>\n",
       "      <th>row_1</th>\n",
       "      <td>1002</td>\n",
       "      <td>Tom</td>\n",
       "    </tr>\n",
       "  </tbody>\n",
       "</table>\n",
       "</div>"
      ],
      "text/plain": [
       "         ID  NAME\n",
       "row_0  1001  John\n",
       "row_1  1002   Tom"
      ]
     },
     "execution_count": 13,
     "metadata": {},
     "output_type": "execute_result"
    }
   ],
   "source": [
    "# Top 2 rows\n",
    "df.head(2)"
   ]
  },
  {
   "cell_type": "code",
   "execution_count": 14,
   "id": "8cf27ca4",
   "metadata": {},
   "outputs": [
    {
     "data": {
      "text/html": [
       "<div>\n",
       "<style scoped>\n",
       "    .dataframe tbody tr th:only-of-type {\n",
       "        vertical-align: middle;\n",
       "    }\n",
       "\n",
       "    .dataframe tbody tr th {\n",
       "        vertical-align: top;\n",
       "    }\n",
       "\n",
       "    .dataframe thead th {\n",
       "        text-align: right;\n",
       "    }\n",
       "</style>\n",
       "<table border=\"1\" class=\"dataframe\">\n",
       "  <thead>\n",
       "    <tr style=\"text-align: right;\">\n",
       "      <th></th>\n",
       "      <th>ID</th>\n",
       "      <th>NAME</th>\n",
       "    </tr>\n",
       "  </thead>\n",
       "  <tbody>\n",
       "    <tr>\n",
       "      <th>row_3</th>\n",
       "      <td>1004</td>\n",
       "      <td>Tim</td>\n",
       "    </tr>\n",
       "    <tr>\n",
       "      <th>row_4</th>\n",
       "      <td>1005</td>\n",
       "      <td>Bill</td>\n",
       "    </tr>\n",
       "  </tbody>\n",
       "</table>\n",
       "</div>"
      ],
      "text/plain": [
       "         ID  NAME\n",
       "row_3  1004   Tim\n",
       "row_4  1005  Bill"
      ]
     },
     "execution_count": 14,
     "metadata": {},
     "output_type": "execute_result"
    }
   ],
   "source": [
    "# Last 2 rows\n",
    "df.tail(2)"
   ]
  },
  {
   "cell_type": "markdown",
   "id": "f6199fa0",
   "metadata": {},
   "source": [
    "Individual `rows` can be `indexed` by `name`,"
   ]
  },
  {
   "cell_type": "code",
   "execution_count": 15,
   "id": "86289d9f",
   "metadata": {},
   "outputs": [
    {
     "data": {
      "text/plain": [
       "ID       1003\n",
       "NAME    Harry\n",
       "Name: row_2, dtype: object"
      ]
     },
     "execution_count": 15,
     "metadata": {},
     "output_type": "execute_result"
    }
   ],
   "source": [
    "df.loc['row_2']"
   ]
  },
  {
   "cell_type": "markdown",
   "id": "c6c12b90",
   "metadata": {},
   "source": [
    "Or by `position`"
   ]
  },
  {
   "cell_type": "code",
   "execution_count": 16,
   "id": "eda5cc5d",
   "metadata": {},
   "outputs": [
    {
     "data": {
      "text/plain": [
       "ID       1003\n",
       "NAME    Harry\n",
       "Name: row_2, dtype: object"
      ]
     },
     "execution_count": 16,
     "metadata": {},
     "output_type": "execute_result"
    }
   ],
   "source": [
    "df.iloc[2]"
   ]
  },
  {
   "cell_type": "markdown",
   "id": "127de8b5",
   "metadata": {},
   "source": [
    "Rows behave as named tuple, so we can access individual elements by position,"
   ]
  },
  {
   "cell_type": "code",
   "execution_count": 17,
   "id": "99d78e36",
   "metadata": {},
   "outputs": [
    {
     "data": {
      "text/plain": [
       "1003"
      ]
     },
     "execution_count": 17,
     "metadata": {},
     "output_type": "execute_result"
    }
   ],
   "source": [
    "df.iloc[2, 0]"
   ]
  },
  {
   "cell_type": "markdown",
   "id": "26abaf2a",
   "metadata": {},
   "source": [
    "Or by `name`"
   ]
  },
  {
   "cell_type": "code",
   "execution_count": 18,
   "id": "4001fc99",
   "metadata": {},
   "outputs": [
    {
     "data": {
      "text/plain": [
       "1003"
      ]
     },
     "execution_count": 18,
     "metadata": {},
     "output_type": "execute_result"
    }
   ],
   "source": [
    "df.iloc[2].ID"
   ]
  },
  {
   "cell_type": "markdown",
   "id": "936bd68a",
   "metadata": {},
   "source": [
    "We can use ranges with `iloc`"
   ]
  },
  {
   "cell_type": "code",
   "execution_count": 19,
   "id": "55590152",
   "metadata": {},
   "outputs": [
    {
     "data": {
      "text/html": [
       "<div>\n",
       "<style scoped>\n",
       "    .dataframe tbody tr th:only-of-type {\n",
       "        vertical-align: middle;\n",
       "    }\n",
       "\n",
       "    .dataframe tbody tr th {\n",
       "        vertical-align: top;\n",
       "    }\n",
       "\n",
       "    .dataframe thead th {\n",
       "        text-align: right;\n",
       "    }\n",
       "</style>\n",
       "<table border=\"1\" class=\"dataframe\">\n",
       "  <thead>\n",
       "    <tr style=\"text-align: right;\">\n",
       "      <th></th>\n",
       "      <th>ID</th>\n",
       "      <th>NAME</th>\n",
       "    </tr>\n",
       "  </thead>\n",
       "  <tbody>\n",
       "    <tr>\n",
       "      <th>row_1</th>\n",
       "      <td>1002</td>\n",
       "      <td>Tom</td>\n",
       "    </tr>\n",
       "    <tr>\n",
       "      <th>row_2</th>\n",
       "      <td>1003</td>\n",
       "      <td>Harry</td>\n",
       "    </tr>\n",
       "  </tbody>\n",
       "</table>\n",
       "</div>"
      ],
      "text/plain": [
       "         ID   NAME\n",
       "row_1  1002    Tom\n",
       "row_2  1003  Harry"
      ]
     },
     "execution_count": 19,
     "metadata": {},
     "output_type": "execute_result"
    }
   ],
   "source": [
    "df.iloc[1:3]"
   ]
  },
  {
   "cell_type": "markdown",
   "id": "84c348db",
   "metadata": {},
   "source": [
    "**Note:** One impotant diffrence is that `loc` automatically includes the last value of the range, while `iloc` does not"
   ]
  },
  {
   "cell_type": "code",
   "execution_count": 20,
   "id": "7d9ffff0",
   "metadata": {},
   "outputs": [
    {
     "data": {
      "text/html": [
       "<div>\n",
       "<style scoped>\n",
       "    .dataframe tbody tr th:only-of-type {\n",
       "        vertical-align: middle;\n",
       "    }\n",
       "\n",
       "    .dataframe tbody tr th {\n",
       "        vertical-align: top;\n",
       "    }\n",
       "\n",
       "    .dataframe thead th {\n",
       "        text-align: right;\n",
       "    }\n",
       "</style>\n",
       "<table border=\"1\" class=\"dataframe\">\n",
       "  <thead>\n",
       "    <tr style=\"text-align: right;\">\n",
       "      <th></th>\n",
       "      <th>ID</th>\n",
       "      <th>NAME</th>\n",
       "    </tr>\n",
       "  </thead>\n",
       "  <tbody>\n",
       "    <tr>\n",
       "      <th>row_1</th>\n",
       "      <td>1002</td>\n",
       "      <td>Tom</td>\n",
       "    </tr>\n",
       "    <tr>\n",
       "      <th>row_2</th>\n",
       "      <td>1003</td>\n",
       "      <td>Harry</td>\n",
       "    </tr>\n",
       "    <tr>\n",
       "      <th>row_3</th>\n",
       "      <td>1004</td>\n",
       "      <td>Tim</td>\n",
       "    </tr>\n",
       "  </tbody>\n",
       "</table>\n",
       "</div>"
      ],
      "text/plain": [
       "         ID   NAME\n",
       "row_1  1002    Tom\n",
       "row_2  1003  Harry\n",
       "row_3  1004    Tim"
      ]
     },
     "execution_count": 20,
     "metadata": {},
     "output_type": "execute_result"
    }
   ],
   "source": [
    "df.loc['row_1': 'row_3']"
   ]
  },
  {
   "cell_type": "markdown",
   "id": "52d328cc",
   "metadata": {},
   "source": [
    "Since each column is just a numpy array, we can easily manipulate the values and create new columns"
   ]
  },
  {
   "cell_type": "code",
   "execution_count": 21,
   "id": "3a3f5f72",
   "metadata": {},
   "outputs": [
    {
     "data": {
      "text/html": [
       "<div>\n",
       "<style scoped>\n",
       "    .dataframe tbody tr th:only-of-type {\n",
       "        vertical-align: middle;\n",
       "    }\n",
       "\n",
       "    .dataframe tbody tr th {\n",
       "        vertical-align: top;\n",
       "    }\n",
       "\n",
       "    .dataframe thead th {\n",
       "        text-align: right;\n",
       "    }\n",
       "</style>\n",
       "<table border=\"1\" class=\"dataframe\">\n",
       "  <thead>\n",
       "    <tr style=\"text-align: right;\">\n",
       "      <th></th>\n",
       "      <th>ID</th>\n",
       "      <th>NAME</th>\n",
       "      <th>ID_NEW</th>\n",
       "    </tr>\n",
       "  </thead>\n",
       "  <tbody>\n",
       "    <tr>\n",
       "      <th>row_0</th>\n",
       "      <td>1001</td>\n",
       "      <td>John</td>\n",
       "      <td>1201</td>\n",
       "    </tr>\n",
       "    <tr>\n",
       "      <th>row_1</th>\n",
       "      <td>1002</td>\n",
       "      <td>Tom</td>\n",
       "      <td>1202</td>\n",
       "    </tr>\n",
       "    <tr>\n",
       "      <th>row_2</th>\n",
       "      <td>1003</td>\n",
       "      <td>Harry</td>\n",
       "      <td>1203</td>\n",
       "    </tr>\n",
       "    <tr>\n",
       "      <th>row_3</th>\n",
       "      <td>1004</td>\n",
       "      <td>Tim</td>\n",
       "      <td>1204</td>\n",
       "    </tr>\n",
       "    <tr>\n",
       "      <th>row_4</th>\n",
       "      <td>1005</td>\n",
       "      <td>Bill</td>\n",
       "      <td>1205</td>\n",
       "    </tr>\n",
       "  </tbody>\n",
       "</table>\n",
       "</div>"
      ],
      "text/plain": [
       "         ID   NAME  ID_NEW\n",
       "row_0  1001   John    1201\n",
       "row_1  1002    Tom    1202\n",
       "row_2  1003  Harry    1203\n",
       "row_3  1004    Tim    1204\n",
       "row_4  1005   Bill    1205"
      ]
     },
     "execution_count": 21,
     "metadata": {},
     "output_type": "execute_result"
    }
   ],
   "source": [
    "df['ID_NEW'] = df.ID + 200\n",
    "df"
   ]
  },
  {
   "cell_type": "markdown",
   "id": "18228a8d",
   "metadata": {},
   "source": [
    "To `append` new row to DataFrame"
   ]
  },
  {
   "cell_type": "code",
   "execution_count": 22,
   "id": "edb25789",
   "metadata": {},
   "outputs": [
    {
     "data": {
      "text/html": [
       "<div>\n",
       "<style scoped>\n",
       "    .dataframe tbody tr th:only-of-type {\n",
       "        vertical-align: middle;\n",
       "    }\n",
       "\n",
       "    .dataframe tbody tr th {\n",
       "        vertical-align: top;\n",
       "    }\n",
       "\n",
       "    .dataframe thead th {\n",
       "        text-align: right;\n",
       "    }\n",
       "</style>\n",
       "<table border=\"1\" class=\"dataframe\">\n",
       "  <thead>\n",
       "    <tr style=\"text-align: right;\">\n",
       "      <th></th>\n",
       "      <th>ID</th>\n",
       "      <th>NAME</th>\n",
       "      <th>ID_NEW</th>\n",
       "    </tr>\n",
       "  </thead>\n",
       "  <tbody>\n",
       "    <tr>\n",
       "      <th>0</th>\n",
       "      <td>1001</td>\n",
       "      <td>John</td>\n",
       "      <td>1201</td>\n",
       "    </tr>\n",
       "    <tr>\n",
       "      <th>1</th>\n",
       "      <td>1002</td>\n",
       "      <td>Tom</td>\n",
       "      <td>1202</td>\n",
       "    </tr>\n",
       "    <tr>\n",
       "      <th>2</th>\n",
       "      <td>1003</td>\n",
       "      <td>Harry</td>\n",
       "      <td>1203</td>\n",
       "    </tr>\n",
       "    <tr>\n",
       "      <th>3</th>\n",
       "      <td>1004</td>\n",
       "      <td>Tim</td>\n",
       "      <td>1204</td>\n",
       "    </tr>\n",
       "    <tr>\n",
       "      <th>4</th>\n",
       "      <td>1005</td>\n",
       "      <td>Bill</td>\n",
       "      <td>1205</td>\n",
       "    </tr>\n",
       "    <tr>\n",
       "      <th>5</th>\n",
       "      <td>1006</td>\n",
       "      <td>Kate</td>\n",
       "      <td>1206</td>\n",
       "    </tr>\n",
       "  </tbody>\n",
       "</table>\n",
       "</div>"
      ],
      "text/plain": [
       "     ID   NAME  ID_NEW\n",
       "0  1001   John    1201\n",
       "1  1002    Tom    1202\n",
       "2  1003  Harry    1203\n",
       "3  1004    Tim    1204\n",
       "4  1005   Bill    1205\n",
       "5  1006   Kate    1206"
      ]
     },
     "execution_count": 22,
     "metadata": {},
     "output_type": "execute_result"
    }
   ],
   "source": [
    "df.append({'ID': 1006, 'NAME': 'Kate', 'ID_NEW': 1206}, ignore_index=True)"
   ]
  },
  {
   "cell_type": "markdown",
   "id": "259afcef",
   "metadata": {},
   "source": [
    "**Note:** `append` returns the modified version of the DataFrame so we should assign it to a new variable if we wish to keep the changes"
   ]
  },
  {
   "cell_type": "code",
   "execution_count": 23,
   "id": "538f7e30",
   "metadata": {},
   "outputs": [
    {
     "data": {
      "text/html": [
       "<div>\n",
       "<style scoped>\n",
       "    .dataframe tbody tr th:only-of-type {\n",
       "        vertical-align: middle;\n",
       "    }\n",
       "\n",
       "    .dataframe tbody tr th {\n",
       "        vertical-align: top;\n",
       "    }\n",
       "\n",
       "    .dataframe thead th {\n",
       "        text-align: right;\n",
       "    }\n",
       "</style>\n",
       "<table border=\"1\" class=\"dataframe\">\n",
       "  <thead>\n",
       "    <tr style=\"text-align: right;\">\n",
       "      <th></th>\n",
       "      <th>ID</th>\n",
       "      <th>NAME</th>\n",
       "      <th>ID_NEW</th>\n",
       "    </tr>\n",
       "  </thead>\n",
       "  <tbody>\n",
       "    <tr>\n",
       "      <th>0</th>\n",
       "      <td>1001</td>\n",
       "      <td>John</td>\n",
       "      <td>1201</td>\n",
       "    </tr>\n",
       "    <tr>\n",
       "      <th>1</th>\n",
       "      <td>1002</td>\n",
       "      <td>Tom</td>\n",
       "      <td>1202</td>\n",
       "    </tr>\n",
       "    <tr>\n",
       "      <th>2</th>\n",
       "      <td>1003</td>\n",
       "      <td>Harry</td>\n",
       "      <td>1203</td>\n",
       "    </tr>\n",
       "    <tr>\n",
       "      <th>3</th>\n",
       "      <td>1004</td>\n",
       "      <td>Tim</td>\n",
       "      <td>1204</td>\n",
       "    </tr>\n",
       "    <tr>\n",
       "      <th>4</th>\n",
       "      <td>1005</td>\n",
       "      <td>Bill</td>\n",
       "      <td>1205</td>\n",
       "    </tr>\n",
       "    <tr>\n",
       "      <th>5</th>\n",
       "      <td>1006</td>\n",
       "      <td>Kate</td>\n",
       "      <td>1206</td>\n",
       "    </tr>\n",
       "  </tbody>\n",
       "</table>\n",
       "</div>"
      ],
      "text/plain": [
       "     ID   NAME  ID_NEW\n",
       "0  1001   John    1201\n",
       "1  1002    Tom    1202\n",
       "2  1003  Harry    1203\n",
       "3  1004    Tim    1204\n",
       "4  1005   Bill    1205\n",
       "5  1006   Kate    1206"
      ]
     },
     "execution_count": 23,
     "metadata": {},
     "output_type": "execute_result"
    }
   ],
   "source": [
    "df = df.append({'ID': 1006, 'NAME': 'Kate', 'ID_NEW': 1206}, ignore_index=True)\n",
    "df"
   ]
  },
  {
   "cell_type": "markdown",
   "id": "b9ff5bfa",
   "metadata": {},
   "source": [
    "To `stack` two DataFrames on top of one another, we use `concat`,"
   ]
  },
  {
   "cell_type": "code",
   "execution_count": 24,
   "id": "63e2f602",
   "metadata": {},
   "outputs": [
    {
     "data": {
      "text/html": [
       "<div>\n",
       "<style scoped>\n",
       "    .dataframe tbody tr th:only-of-type {\n",
       "        vertical-align: middle;\n",
       "    }\n",
       "\n",
       "    .dataframe tbody tr th {\n",
       "        vertical-align: top;\n",
       "    }\n",
       "\n",
       "    .dataframe thead th {\n",
       "        text-align: right;\n",
       "    }\n",
       "</style>\n",
       "<table border=\"1\" class=\"dataframe\">\n",
       "  <thead>\n",
       "    <tr style=\"text-align: right;\">\n",
       "      <th></th>\n",
       "      <th>ID</th>\n",
       "      <th>NAME</th>\n",
       "      <th>ID_NEW</th>\n",
       "    </tr>\n",
       "  </thead>\n",
       "  <tbody>\n",
       "    <tr>\n",
       "      <th>0</th>\n",
       "      <td>2001</td>\n",
       "      <td>Jack</td>\n",
       "      <td>2201</td>\n",
       "    </tr>\n",
       "    <tr>\n",
       "      <th>1</th>\n",
       "      <td>2002</td>\n",
       "      <td>Jill</td>\n",
       "      <td>2202</td>\n",
       "    </tr>\n",
       "    <tr>\n",
       "      <th>2</th>\n",
       "      <td>2003</td>\n",
       "      <td>Roni</td>\n",
       "      <td>2203</td>\n",
       "    </tr>\n",
       "    <tr>\n",
       "      <th>3</th>\n",
       "      <td>2004</td>\n",
       "      <td>Hunny</td>\n",
       "      <td>2204</td>\n",
       "    </tr>\n",
       "    <tr>\n",
       "      <th>4</th>\n",
       "      <td>2005</td>\n",
       "      <td>Sunny</td>\n",
       "      <td>2205</td>\n",
       "    </tr>\n",
       "    <tr>\n",
       "      <th>5</th>\n",
       "      <td>2006</td>\n",
       "      <td>Mani</td>\n",
       "      <td>2206</td>\n",
       "    </tr>\n",
       "  </tbody>\n",
       "</table>\n",
       "</div>"
      ],
      "text/plain": [
       "     ID   NAME  ID_NEW\n",
       "0  2001   Jack    2201\n",
       "1  2002   Jill    2202\n",
       "2  2003   Roni    2203\n",
       "3  2004  Hunny    2204\n",
       "4  2005  Sunny    2205\n",
       "5  2006   Mani    2206"
      ]
     },
     "execution_count": 24,
     "metadata": {},
     "output_type": "execute_result"
    }
   ],
   "source": [
    "# Create new dataframe\n",
    "df_new = pd.DataFrame({'ID': [2001, 2002, 2003, 2004, 2005, 2006], \n",
    "                       'NAME': ['Jack', 'Jill', 'Roni', 'Hunny', 'Sunny', 'Mani'], \n",
    "                       'ID_NEW': [2201, 2202, 2203, 2204, 2205, 2206]})\n",
    "df_new"
   ]
  },
  {
   "cell_type": "code",
   "execution_count": 25,
   "id": "24c3690b",
   "metadata": {},
   "outputs": [
    {
     "data": {
      "text/html": [
       "<div>\n",
       "<style scoped>\n",
       "    .dataframe tbody tr th:only-of-type {\n",
       "        vertical-align: middle;\n",
       "    }\n",
       "\n",
       "    .dataframe tbody tr th {\n",
       "        vertical-align: top;\n",
       "    }\n",
       "\n",
       "    .dataframe thead th {\n",
       "        text-align: right;\n",
       "    }\n",
       "</style>\n",
       "<table border=\"1\" class=\"dataframe\">\n",
       "  <thead>\n",
       "    <tr style=\"text-align: right;\">\n",
       "      <th></th>\n",
       "      <th>ID</th>\n",
       "      <th>NAME</th>\n",
       "      <th>ID_NEW</th>\n",
       "    </tr>\n",
       "  </thead>\n",
       "  <tbody>\n",
       "    <tr>\n",
       "      <th>0</th>\n",
       "      <td>1001</td>\n",
       "      <td>John</td>\n",
       "      <td>1201</td>\n",
       "    </tr>\n",
       "    <tr>\n",
       "      <th>1</th>\n",
       "      <td>1002</td>\n",
       "      <td>Tom</td>\n",
       "      <td>1202</td>\n",
       "    </tr>\n",
       "    <tr>\n",
       "      <th>2</th>\n",
       "      <td>1003</td>\n",
       "      <td>Harry</td>\n",
       "      <td>1203</td>\n",
       "    </tr>\n",
       "    <tr>\n",
       "      <th>3</th>\n",
       "      <td>1004</td>\n",
       "      <td>Tim</td>\n",
       "      <td>1204</td>\n",
       "    </tr>\n",
       "    <tr>\n",
       "      <th>4</th>\n",
       "      <td>1005</td>\n",
       "      <td>Bill</td>\n",
       "      <td>1205</td>\n",
       "    </tr>\n",
       "    <tr>\n",
       "      <th>5</th>\n",
       "      <td>1006</td>\n",
       "      <td>Kate</td>\n",
       "      <td>1206</td>\n",
       "    </tr>\n",
       "    <tr>\n",
       "      <th>0</th>\n",
       "      <td>2001</td>\n",
       "      <td>Jack</td>\n",
       "      <td>2201</td>\n",
       "    </tr>\n",
       "    <tr>\n",
       "      <th>1</th>\n",
       "      <td>2002</td>\n",
       "      <td>Jill</td>\n",
       "      <td>2202</td>\n",
       "    </tr>\n",
       "    <tr>\n",
       "      <th>2</th>\n",
       "      <td>2003</td>\n",
       "      <td>Roni</td>\n",
       "      <td>2203</td>\n",
       "    </tr>\n",
       "    <tr>\n",
       "      <th>3</th>\n",
       "      <td>2004</td>\n",
       "      <td>Hunny</td>\n",
       "      <td>2204</td>\n",
       "    </tr>\n",
       "    <tr>\n",
       "      <th>4</th>\n",
       "      <td>2005</td>\n",
       "      <td>Sunny</td>\n",
       "      <td>2205</td>\n",
       "    </tr>\n",
       "    <tr>\n",
       "      <th>5</th>\n",
       "      <td>2006</td>\n",
       "      <td>Mani</td>\n",
       "      <td>2206</td>\n",
       "    </tr>\n",
       "  </tbody>\n",
       "</table>\n",
       "</div>"
      ],
      "text/plain": [
       "     ID   NAME  ID_NEW\n",
       "0  1001   John    1201\n",
       "1  1002    Tom    1202\n",
       "2  1003  Harry    1203\n",
       "3  1004    Tim    1204\n",
       "4  1005   Bill    1205\n",
       "5  1006   Kate    1206\n",
       "0  2001   Jack    2201\n",
       "1  2002   Jill    2202\n",
       "2  2003   Roni    2203\n",
       "3  2004  Hunny    2204\n",
       "4  2005  Sunny    2205\n",
       "5  2006   Mani    2206"
      ]
     },
     "execution_count": 25,
     "metadata": {},
     "output_type": "execute_result"
    }
   ],
   "source": [
    "# Concat DataFrames\n",
    "df_top = pd.concat([df, df_new])\n",
    "df_top"
   ]
  },
  {
   "cell_type": "markdown",
   "id": "39b60f0e",
   "metadata": {},
   "source": [
    "Here `index` will not auto adjust, we need to fix it,"
   ]
  },
  {
   "cell_type": "code",
   "execution_count": 26,
   "id": "f9025509",
   "metadata": {},
   "outputs": [
    {
     "data": {
      "text/html": [
       "<div>\n",
       "<style scoped>\n",
       "    .dataframe tbody tr th:only-of-type {\n",
       "        vertical-align: middle;\n",
       "    }\n",
       "\n",
       "    .dataframe tbody tr th {\n",
       "        vertical-align: top;\n",
       "    }\n",
       "\n",
       "    .dataframe thead th {\n",
       "        text-align: right;\n",
       "    }\n",
       "</style>\n",
       "<table border=\"1\" class=\"dataframe\">\n",
       "  <thead>\n",
       "    <tr style=\"text-align: right;\">\n",
       "      <th></th>\n",
       "      <th>ID</th>\n",
       "      <th>NAME</th>\n",
       "      <th>ID_NEW</th>\n",
       "    </tr>\n",
       "  </thead>\n",
       "  <tbody>\n",
       "    <tr>\n",
       "      <th>0</th>\n",
       "      <td>1001</td>\n",
       "      <td>John</td>\n",
       "      <td>1201</td>\n",
       "    </tr>\n",
       "    <tr>\n",
       "      <th>1</th>\n",
       "      <td>1002</td>\n",
       "      <td>Tom</td>\n",
       "      <td>1202</td>\n",
       "    </tr>\n",
       "    <tr>\n",
       "      <th>2</th>\n",
       "      <td>1003</td>\n",
       "      <td>Harry</td>\n",
       "      <td>1203</td>\n",
       "    </tr>\n",
       "    <tr>\n",
       "      <th>3</th>\n",
       "      <td>1004</td>\n",
       "      <td>Tim</td>\n",
       "      <td>1204</td>\n",
       "    </tr>\n",
       "    <tr>\n",
       "      <th>4</th>\n",
       "      <td>1005</td>\n",
       "      <td>Bill</td>\n",
       "      <td>1205</td>\n",
       "    </tr>\n",
       "    <tr>\n",
       "      <th>5</th>\n",
       "      <td>1006</td>\n",
       "      <td>Kate</td>\n",
       "      <td>1206</td>\n",
       "    </tr>\n",
       "    <tr>\n",
       "      <th>6</th>\n",
       "      <td>2001</td>\n",
       "      <td>Jack</td>\n",
       "      <td>2201</td>\n",
       "    </tr>\n",
       "    <tr>\n",
       "      <th>7</th>\n",
       "      <td>2002</td>\n",
       "      <td>Jill</td>\n",
       "      <td>2202</td>\n",
       "    </tr>\n",
       "    <tr>\n",
       "      <th>8</th>\n",
       "      <td>2003</td>\n",
       "      <td>Roni</td>\n",
       "      <td>2203</td>\n",
       "    </tr>\n",
       "    <tr>\n",
       "      <th>9</th>\n",
       "      <td>2004</td>\n",
       "      <td>Hunny</td>\n",
       "      <td>2204</td>\n",
       "    </tr>\n",
       "    <tr>\n",
       "      <th>10</th>\n",
       "      <td>2005</td>\n",
       "      <td>Sunny</td>\n",
       "      <td>2205</td>\n",
       "    </tr>\n",
       "    <tr>\n",
       "      <th>11</th>\n",
       "      <td>2006</td>\n",
       "      <td>Mani</td>\n",
       "      <td>2206</td>\n",
       "    </tr>\n",
       "  </tbody>\n",
       "</table>\n",
       "</div>"
      ],
      "text/plain": [
       "      ID   NAME  ID_NEW\n",
       "0   1001   John    1201\n",
       "1   1002    Tom    1202\n",
       "2   1003  Harry    1203\n",
       "3   1004    Tim    1204\n",
       "4   1005   Bill    1205\n",
       "5   1006   Kate    1206\n",
       "6   2001   Jack    2201\n",
       "7   2002   Jill    2202\n",
       "8   2003   Roni    2203\n",
       "9   2004  Hunny    2204\n",
       "10  2005  Sunny    2205\n",
       "11  2006   Mani    2206"
      ]
     },
     "execution_count": 26,
     "metadata": {},
     "output_type": "execute_result"
    }
   ],
   "source": [
    "# Reset index and dropping \"index\" column\n",
    "df_top = df_top.reset_index()\n",
    "df_top.drop(columns=['index'], axis=1, inplace=True)\n",
    "df_top"
   ]
  },
  {
   "cell_type": "markdown",
   "id": "ccad31dc",
   "metadata": {},
   "source": [
    "`concat` can also be used to place two DataFrames side by side,"
   ]
  },
  {
   "cell_type": "code",
   "execution_count": 27,
   "id": "373a7f3b",
   "metadata": {},
   "outputs": [
    {
     "data": {
      "text/html": [
       "<div>\n",
       "<style scoped>\n",
       "    .dataframe tbody tr th:only-of-type {\n",
       "        vertical-align: middle;\n",
       "    }\n",
       "\n",
       "    .dataframe tbody tr th {\n",
       "        vertical-align: top;\n",
       "    }\n",
       "\n",
       "    .dataframe thead th {\n",
       "        text-align: right;\n",
       "    }\n",
       "</style>\n",
       "<table border=\"1\" class=\"dataframe\">\n",
       "  <thead>\n",
       "    <tr style=\"text-align: right;\">\n",
       "      <th></th>\n",
       "      <th>ID</th>\n",
       "      <th>NAME</th>\n",
       "      <th>ID_NEW</th>\n",
       "      <th>ID</th>\n",
       "      <th>NAME</th>\n",
       "      <th>ID_NEW</th>\n",
       "    </tr>\n",
       "  </thead>\n",
       "  <tbody>\n",
       "    <tr>\n",
       "      <th>0</th>\n",
       "      <td>1001</td>\n",
       "      <td>John</td>\n",
       "      <td>1201</td>\n",
       "      <td>2001</td>\n",
       "      <td>Jack</td>\n",
       "      <td>2201</td>\n",
       "    </tr>\n",
       "    <tr>\n",
       "      <th>1</th>\n",
       "      <td>1002</td>\n",
       "      <td>Tom</td>\n",
       "      <td>1202</td>\n",
       "      <td>2002</td>\n",
       "      <td>Jill</td>\n",
       "      <td>2202</td>\n",
       "    </tr>\n",
       "    <tr>\n",
       "      <th>2</th>\n",
       "      <td>1003</td>\n",
       "      <td>Harry</td>\n",
       "      <td>1203</td>\n",
       "      <td>2003</td>\n",
       "      <td>Roni</td>\n",
       "      <td>2203</td>\n",
       "    </tr>\n",
       "    <tr>\n",
       "      <th>3</th>\n",
       "      <td>1004</td>\n",
       "      <td>Tim</td>\n",
       "      <td>1204</td>\n",
       "      <td>2004</td>\n",
       "      <td>Hunny</td>\n",
       "      <td>2204</td>\n",
       "    </tr>\n",
       "    <tr>\n",
       "      <th>4</th>\n",
       "      <td>1005</td>\n",
       "      <td>Bill</td>\n",
       "      <td>1205</td>\n",
       "      <td>2005</td>\n",
       "      <td>Sunny</td>\n",
       "      <td>2205</td>\n",
       "    </tr>\n",
       "    <tr>\n",
       "      <th>5</th>\n",
       "      <td>1006</td>\n",
       "      <td>Kate</td>\n",
       "      <td>1206</td>\n",
       "      <td>2006</td>\n",
       "      <td>Mani</td>\n",
       "      <td>2206</td>\n",
       "    </tr>\n",
       "  </tbody>\n",
       "</table>\n",
       "</div>"
      ],
      "text/plain": [
       "     ID   NAME  ID_NEW    ID   NAME  ID_NEW\n",
       "0  1001   John    1201  2001   Jack    2201\n",
       "1  1002    Tom    1202  2002   Jill    2202\n",
       "2  1003  Harry    1203  2003   Roni    2203\n",
       "3  1004    Tim    1204  2004  Hunny    2204\n",
       "4  1005   Bill    1205  2005  Sunny    2205\n",
       "5  1006   Kate    1206  2006   Mani    2206"
      ]
     },
     "execution_count": 27,
     "metadata": {},
     "output_type": "execute_result"
    }
   ],
   "source": [
    "# Concat DataFrames\n",
    "df_side = pd.concat([df, df_new], axis=1)\n",
    "df_side"
   ]
  },
  {
   "cell_type": "markdown",
   "id": "e481e25c",
   "metadata": {},
   "source": [
    "### DataFrame Manipulations\n",
    "\n",
    "Create data with some dummy data"
   ]
  },
  {
   "cell_type": "code",
   "execution_count": 28,
   "id": "f3fe3913",
   "metadata": {},
   "outputs": [
    {
     "data": {
      "text/html": [
       "<div>\n",
       "<style scoped>\n",
       "    .dataframe tbody tr th:only-of-type {\n",
       "        vertical-align: middle;\n",
       "    }\n",
       "\n",
       "    .dataframe tbody tr th {\n",
       "        vertical-align: top;\n",
       "    }\n",
       "\n",
       "    .dataframe thead th {\n",
       "        text-align: right;\n",
       "    }\n",
       "</style>\n",
       "<table border=\"1\" class=\"dataframe\">\n",
       "  <thead>\n",
       "    <tr style=\"text-align: right;\">\n",
       "      <th></th>\n",
       "      <th>A</th>\n",
       "      <th>B</th>\n",
       "    </tr>\n",
       "  </thead>\n",
       "  <tbody>\n",
       "    <tr>\n",
       "      <th>0</th>\n",
       "      <td>0</td>\n",
       "      <td>1</td>\n",
       "    </tr>\n",
       "    <tr>\n",
       "      <th>1</th>\n",
       "      <td>1</td>\n",
       "      <td>2</td>\n",
       "    </tr>\n",
       "    <tr>\n",
       "      <th>2</th>\n",
       "      <td>2</td>\n",
       "      <td>3</td>\n",
       "    </tr>\n",
       "    <tr>\n",
       "      <th>3</th>\n",
       "      <td>3</td>\n",
       "      <td>4</td>\n",
       "    </tr>\n",
       "    <tr>\n",
       "      <th>4</th>\n",
       "      <td>4</td>\n",
       "      <td>5</td>\n",
       "    </tr>\n",
       "  </tbody>\n",
       "</table>\n",
       "</div>"
      ],
      "text/plain": [
       "   A  B\n",
       "0  0  1\n",
       "1  1  2\n",
       "2  2  3\n",
       "3  3  4\n",
       "4  4  5"
      ]
     },
     "execution_count": 28,
     "metadata": {},
     "output_type": "execute_result"
    }
   ],
   "source": [
    "temp_df = pd.DataFrame({'A': range(5), 'B': range(1,6)})\n",
    "temp_df"
   ]
  },
  {
   "cell_type": "markdown",
   "id": "a8c2f96b",
   "metadata": {},
   "source": [
    "`map` function allows us to easily apply a function to the rows of a series"
   ]
  },
  {
   "cell_type": "code",
   "execution_count": 29,
   "id": "5b16a5c4",
   "metadata": {},
   "outputs": [
    {
     "data": {
      "text/html": [
       "<div>\n",
       "<style scoped>\n",
       "    .dataframe tbody tr th:only-of-type {\n",
       "        vertical-align: middle;\n",
       "    }\n",
       "\n",
       "    .dataframe tbody tr th {\n",
       "        vertical-align: top;\n",
       "    }\n",
       "\n",
       "    .dataframe thead th {\n",
       "        text-align: right;\n",
       "    }\n",
       "</style>\n",
       "<table border=\"1\" class=\"dataframe\">\n",
       "  <thead>\n",
       "    <tr style=\"text-align: right;\">\n",
       "      <th></th>\n",
       "      <th>A</th>\n",
       "      <th>B</th>\n",
       "    </tr>\n",
       "  </thead>\n",
       "  <tbody>\n",
       "    <tr>\n",
       "      <th>0</th>\n",
       "      <td>5</td>\n",
       "      <td>1</td>\n",
       "    </tr>\n",
       "    <tr>\n",
       "      <th>1</th>\n",
       "      <td>6</td>\n",
       "      <td>2</td>\n",
       "    </tr>\n",
       "    <tr>\n",
       "      <th>2</th>\n",
       "      <td>7</td>\n",
       "      <td>3</td>\n",
       "    </tr>\n",
       "    <tr>\n",
       "      <th>3</th>\n",
       "      <td>8</td>\n",
       "      <td>4</td>\n",
       "    </tr>\n",
       "    <tr>\n",
       "      <th>4</th>\n",
       "      <td>9</td>\n",
       "      <td>5</td>\n",
       "    </tr>\n",
       "  </tbody>\n",
       "</table>\n",
       "</div>"
      ],
      "text/plain": [
       "   A  B\n",
       "0  5  1\n",
       "1  6  2\n",
       "2  7  3\n",
       "3  8  4\n",
       "4  9  5"
      ]
     },
     "execution_count": 29,
     "metadata": {},
     "output_type": "execute_result"
    }
   ],
   "source": [
    "temp_df['A'] = temp_df['A'].map(lambda x: x + 5)\n",
    "temp_df"
   ]
  },
  {
   "cell_type": "markdown",
   "id": "07c0cccc",
   "metadata": {},
   "source": [
    "For a DataFrame we need to use `transform`"
   ]
  },
  {
   "cell_type": "code",
   "execution_count": 30,
   "id": "c872cb29",
   "metadata": {},
   "outputs": [
    {
     "data": {
      "text/html": [
       "<div>\n",
       "<style scoped>\n",
       "    .dataframe tbody tr th:only-of-type {\n",
       "        vertical-align: middle;\n",
       "    }\n",
       "\n",
       "    .dataframe tbody tr th {\n",
       "        vertical-align: top;\n",
       "    }\n",
       "\n",
       "    .dataframe thead th {\n",
       "        text-align: right;\n",
       "    }\n",
       "</style>\n",
       "<table border=\"1\" class=\"dataframe\">\n",
       "  <thead>\n",
       "    <tr style=\"text-align: right;\">\n",
       "      <th></th>\n",
       "      <th>A</th>\n",
       "      <th>B</th>\n",
       "    </tr>\n",
       "  </thead>\n",
       "  <tbody>\n",
       "    <tr>\n",
       "      <th>0</th>\n",
       "      <td>14</td>\n",
       "      <td>10</td>\n",
       "    </tr>\n",
       "    <tr>\n",
       "      <th>1</th>\n",
       "      <td>15</td>\n",
       "      <td>11</td>\n",
       "    </tr>\n",
       "    <tr>\n",
       "      <th>2</th>\n",
       "      <td>16</td>\n",
       "      <td>12</td>\n",
       "    </tr>\n",
       "    <tr>\n",
       "      <th>3</th>\n",
       "      <td>17</td>\n",
       "      <td>13</td>\n",
       "    </tr>\n",
       "    <tr>\n",
       "      <th>4</th>\n",
       "      <td>18</td>\n",
       "      <td>14</td>\n",
       "    </tr>\n",
       "  </tbody>\n",
       "</table>\n",
       "</div>"
      ],
      "text/plain": [
       "    A   B\n",
       "0  14  10\n",
       "1  15  11\n",
       "2  16  12\n",
       "3  17  13\n",
       "4  18  14"
      ]
     },
     "execution_count": 30,
     "metadata": {},
     "output_type": "execute_result"
    }
   ],
   "source": [
    "# Apply to all the columns\n",
    "temp_df = temp_df.transform(lambda x: x + 9)\n",
    "temp_df"
   ]
  },
  {
   "cell_type": "markdown",
   "id": "a94b4e09",
   "metadata": {},
   "source": [
    "Or we can use `apply` function"
   ]
  },
  {
   "cell_type": "code",
   "execution_count": 31,
   "id": "a6a990b7",
   "metadata": {},
   "outputs": [
    {
     "data": {
      "text/plain": [
       "A    80\n",
       "B    60\n",
       "dtype: int64"
      ]
     },
     "execution_count": 31,
     "metadata": {},
     "output_type": "execute_result"
    }
   ],
   "source": [
    "# sum(A), sum(B)\n",
    "temp_df.apply(np.sum, axis=0)"
   ]
  },
  {
   "cell_type": "code",
   "execution_count": 32,
   "id": "ce6dd281",
   "metadata": {},
   "outputs": [
    {
     "data": {
      "text/plain": [
       "0    24\n",
       "1    26\n",
       "2    28\n",
       "3    30\n",
       "4    32\n",
       "dtype: int64"
      ]
     },
     "execution_count": 32,
     "metadata": {},
     "output_type": "execute_result"
    }
   ],
   "source": [
    "# sum(A + B) -> 0th row, ..., till last row\n",
    "temp_df.apply(np.sum, axis=1)"
   ]
  },
  {
   "cell_type": "markdown",
   "id": "6cc543bb",
   "metadata": {},
   "source": [
    "### Time Series\n",
    "Apple stock information from https://finance.yahoo.com/quote/AAPL/history"
   ]
  },
  {
   "cell_type": "code",
   "execution_count": 33,
   "id": "8a192b74",
   "metadata": {},
   "outputs": [
    {
     "data": {
      "text/plain": [
       "(5570, 7)"
      ]
     },
     "execution_count": 33,
     "metadata": {},
     "output_type": "execute_result"
    }
   ],
   "source": [
    "# Load apple stock data\n",
    "data = pd.read_csv('AAPL.csv')\n",
    "data.shape"
   ]
  },
  {
   "cell_type": "code",
   "execution_count": 34,
   "id": "9ce75485",
   "metadata": {},
   "outputs": [
    {
     "data": {
      "text/html": [
       "<div>\n",
       "<style scoped>\n",
       "    .dataframe tbody tr th:only-of-type {\n",
       "        vertical-align: middle;\n",
       "    }\n",
       "\n",
       "    .dataframe tbody tr th {\n",
       "        vertical-align: top;\n",
       "    }\n",
       "\n",
       "    .dataframe thead th {\n",
       "        text-align: right;\n",
       "    }\n",
       "</style>\n",
       "<table border=\"1\" class=\"dataframe\">\n",
       "  <thead>\n",
       "    <tr style=\"text-align: right;\">\n",
       "      <th></th>\n",
       "      <th>Date</th>\n",
       "      <th>Open</th>\n",
       "      <th>High</th>\n",
       "      <th>Low</th>\n",
       "      <th>Close</th>\n",
       "      <th>Adj Close</th>\n",
       "      <th>Volume</th>\n",
       "    </tr>\n",
       "  </thead>\n",
       "  <tbody>\n",
       "    <tr>\n",
       "      <th>0</th>\n",
       "      <td>2000-01-03</td>\n",
       "      <td>0.936384</td>\n",
       "      <td>1.004464</td>\n",
       "      <td>0.907924</td>\n",
       "      <td>0.999442</td>\n",
       "      <td>0.855796</td>\n",
       "      <td>535796800</td>\n",
       "    </tr>\n",
       "    <tr>\n",
       "      <th>1</th>\n",
       "      <td>2000-01-04</td>\n",
       "      <td>0.966518</td>\n",
       "      <td>0.987723</td>\n",
       "      <td>0.903460</td>\n",
       "      <td>0.915179</td>\n",
       "      <td>0.783644</td>\n",
       "      <td>512377600</td>\n",
       "    </tr>\n",
       "    <tr>\n",
       "      <th>2</th>\n",
       "      <td>2000-01-05</td>\n",
       "      <td>0.926339</td>\n",
       "      <td>0.987165</td>\n",
       "      <td>0.919643</td>\n",
       "      <td>0.928571</td>\n",
       "      <td>0.795111</td>\n",
       "      <td>778321600</td>\n",
       "    </tr>\n",
       "    <tr>\n",
       "      <th>3</th>\n",
       "      <td>2000-01-06</td>\n",
       "      <td>0.947545</td>\n",
       "      <td>0.955357</td>\n",
       "      <td>0.848214</td>\n",
       "      <td>0.848214</td>\n",
       "      <td>0.726304</td>\n",
       "      <td>767972800</td>\n",
       "    </tr>\n",
       "    <tr>\n",
       "      <th>4</th>\n",
       "      <td>2000-01-07</td>\n",
       "      <td>0.861607</td>\n",
       "      <td>0.901786</td>\n",
       "      <td>0.852679</td>\n",
       "      <td>0.888393</td>\n",
       "      <td>0.760708</td>\n",
       "      <td>460734400</td>\n",
       "    </tr>\n",
       "  </tbody>\n",
       "</table>\n",
       "</div>"
      ],
      "text/plain": [
       "         Date      Open      High       Low     Close  Adj Close     Volume\n",
       "0  2000-01-03  0.936384  1.004464  0.907924  0.999442   0.855796  535796800\n",
       "1  2000-01-04  0.966518  0.987723  0.903460  0.915179   0.783644  512377600\n",
       "2  2000-01-05  0.926339  0.987165  0.919643  0.928571   0.795111  778321600\n",
       "3  2000-01-06  0.947545  0.955357  0.848214  0.848214   0.726304  767972800\n",
       "4  2000-01-07  0.861607  0.901786  0.852679  0.888393   0.760708  460734400"
      ]
     },
     "execution_count": 34,
     "metadata": {},
     "output_type": "execute_result"
    }
   ],
   "source": [
    "# View top 5 rows\n",
    "data.head()"
   ]
  },
  {
   "cell_type": "markdown",
   "id": "dd5f6ac5",
   "metadata": {},
   "source": [
    "The data contains a column with dates, as well as several columns with various metrics of the stock price fluctuation for each day.\n",
    "\n",
    "Check type of `Date` column"
   ]
  },
  {
   "cell_type": "code",
   "execution_count": 35,
   "id": "284b96c5",
   "metadata": {},
   "outputs": [
    {
     "data": {
      "text/plain": [
       "str"
      ]
     },
     "execution_count": 35,
     "metadata": {},
     "output_type": "execute_result"
    }
   ],
   "source": [
    "type(data.Date[0])"
   ]
  },
  {
   "cell_type": "markdown",
   "id": "6620a411",
   "metadata": {},
   "source": [
    "We can automatically convert the `Date` column to datetime column,"
   ]
  },
  {
   "cell_type": "code",
   "execution_count": 36,
   "id": "c2cea22a",
   "metadata": {},
   "outputs": [
    {
     "data": {
      "text/plain": [
       "Date         datetime64[ns]\n",
       "Open                float64\n",
       "High                float64\n",
       "Low                 float64\n",
       "Close               float64\n",
       "Adj Close           float64\n",
       "Volume                int64\n",
       "dtype: object"
      ]
     },
     "execution_count": 36,
     "metadata": {},
     "output_type": "execute_result"
    }
   ],
   "source": [
    "data['Date'] = pd.to_datetime(data['Date'].astype(str))\n",
    "data.dtypes"
   ]
  },
  {
   "cell_type": "markdown",
   "id": "1001b5b4",
   "metadata": {},
   "source": [
    "We can parse date while loading csv as well,"
   ]
  },
  {
   "cell_type": "code",
   "execution_count": 37,
   "id": "27d7d734",
   "metadata": {},
   "outputs": [
    {
     "data": {
      "text/plain": [
       "Date         datetime64[ns]\n",
       "Open                float64\n",
       "High                float64\n",
       "Low                 float64\n",
       "Close               float64\n",
       "Adj Close           float64\n",
       "Volume                int64\n",
       "dtype: object"
      ]
     },
     "execution_count": 37,
     "metadata": {},
     "output_type": "execute_result"
    }
   ],
   "source": [
    "df = pd.read_csv('AAPL.csv', parse_dates=['Date'])\n",
    "df.dtypes"
   ]
  },
  {
   "cell_type": "markdown",
   "id": "606ddd9d",
   "metadata": {},
   "source": [
    "If we set the `Date` column to be index, we can effictively create `Time Series`"
   ]
  },
  {
   "cell_type": "code",
   "execution_count": 38,
   "id": "069edf3a",
   "metadata": {},
   "outputs": [
    {
     "data": {
      "text/html": [
       "<div>\n",
       "<style scoped>\n",
       "    .dataframe tbody tr th:only-of-type {\n",
       "        vertical-align: middle;\n",
       "    }\n",
       "\n",
       "    .dataframe tbody tr th {\n",
       "        vertical-align: top;\n",
       "    }\n",
       "\n",
       "    .dataframe thead th {\n",
       "        text-align: right;\n",
       "    }\n",
       "</style>\n",
       "<table border=\"1\" class=\"dataframe\">\n",
       "  <thead>\n",
       "    <tr style=\"text-align: right;\">\n",
       "      <th></th>\n",
       "      <th>Open</th>\n",
       "      <th>High</th>\n",
       "      <th>Low</th>\n",
       "      <th>Close</th>\n",
       "      <th>Adj Close</th>\n",
       "      <th>Volume</th>\n",
       "    </tr>\n",
       "    <tr>\n",
       "      <th>Date</th>\n",
       "      <th></th>\n",
       "      <th></th>\n",
       "      <th></th>\n",
       "      <th></th>\n",
       "      <th></th>\n",
       "      <th></th>\n",
       "    </tr>\n",
       "  </thead>\n",
       "  <tbody>\n",
       "    <tr>\n",
       "      <th>2000-01-03</th>\n",
       "      <td>0.936384</td>\n",
       "      <td>1.004464</td>\n",
       "      <td>0.907924</td>\n",
       "      <td>0.999442</td>\n",
       "      <td>0.855796</td>\n",
       "      <td>535796800</td>\n",
       "    </tr>\n",
       "    <tr>\n",
       "      <th>2000-01-04</th>\n",
       "      <td>0.966518</td>\n",
       "      <td>0.987723</td>\n",
       "      <td>0.903460</td>\n",
       "      <td>0.915179</td>\n",
       "      <td>0.783644</td>\n",
       "      <td>512377600</td>\n",
       "    </tr>\n",
       "    <tr>\n",
       "      <th>2000-01-05</th>\n",
       "      <td>0.926339</td>\n",
       "      <td>0.987165</td>\n",
       "      <td>0.919643</td>\n",
       "      <td>0.928571</td>\n",
       "      <td>0.795111</td>\n",
       "      <td>778321600</td>\n",
       "    </tr>\n",
       "    <tr>\n",
       "      <th>2000-01-06</th>\n",
       "      <td>0.947545</td>\n",
       "      <td>0.955357</td>\n",
       "      <td>0.848214</td>\n",
       "      <td>0.848214</td>\n",
       "      <td>0.726304</td>\n",
       "      <td>767972800</td>\n",
       "    </tr>\n",
       "    <tr>\n",
       "      <th>2000-01-07</th>\n",
       "      <td>0.861607</td>\n",
       "      <td>0.901786</td>\n",
       "      <td>0.852679</td>\n",
       "      <td>0.888393</td>\n",
       "      <td>0.760708</td>\n",
       "      <td>460734400</td>\n",
       "    </tr>\n",
       "  </tbody>\n",
       "</table>\n",
       "</div>"
      ],
      "text/plain": [
       "                Open      High       Low     Close  Adj Close     Volume\n",
       "Date                                                                    \n",
       "2000-01-03  0.936384  1.004464  0.907924  0.999442   0.855796  535796800\n",
       "2000-01-04  0.966518  0.987723  0.903460  0.915179   0.783644  512377600\n",
       "2000-01-05  0.926339  0.987165  0.919643  0.928571   0.795111  778321600\n",
       "2000-01-06  0.947545  0.955357  0.848214  0.848214   0.726304  767972800\n",
       "2000-01-07  0.861607  0.901786  0.852679  0.888393   0.760708  460734400"
      ]
     },
     "execution_count": 38,
     "metadata": {},
     "output_type": "execute_result"
    }
   ],
   "source": [
    "df.set_index('Date', inplace=True)\n",
    "df.head()"
   ]
  },
  {
   "cell_type": "code",
   "execution_count": 39,
   "id": "53e65abc",
   "metadata": {},
   "outputs": [
    {
     "name": "stdout",
     "output_type": "stream",
     "text": [
      "<class 'pandas.core.frame.DataFrame'>\n",
      "DatetimeIndex: 5570 entries, 2000-01-03 to 2022-02-18\n",
      "Data columns (total 6 columns):\n",
      " #   Column     Non-Null Count  Dtype  \n",
      "---  ------     --------------  -----  \n",
      " 0   Open       5570 non-null   float64\n",
      " 1   High       5570 non-null   float64\n",
      " 2   Low        5570 non-null   float64\n",
      " 3   Close      5570 non-null   float64\n",
      " 4   Adj Close  5570 non-null   float64\n",
      " 5   Volume     5570 non-null   int64  \n",
      "dtypes: float64(5), int64(1)\n",
      "memory usage: 304.6 KB\n"
     ]
    }
   ],
   "source": [
    "# let's see the info\n",
    "df.info()"
   ]
  },
  {
   "cell_type": "markdown",
   "id": "b5c1a0ff",
   "metadata": {},
   "source": [
    "As we can see pandas automatically generate a `DatetimeIndex` object that allow us to take advantage of the fact that we are dealing with dates.\n",
    "\n",
    "Now we can easily access parts of the date object,"
   ]
  },
  {
   "cell_type": "code",
   "execution_count": 40,
   "id": "f3439e44",
   "metadata": {},
   "outputs": [
    {
     "data": {
      "text/plain": [
       "Int64Index([1, 1, 1, 1, 1, 1, 1, 1, 1, 1,\n",
       "            ...\n",
       "            2, 2, 2, 2, 2, 2, 2, 2, 2, 2],\n",
       "           dtype='int64', name='Date', length=5570)"
      ]
     },
     "execution_count": 40,
     "metadata": {},
     "output_type": "execute_result"
    }
   ],
   "source": [
    "# Get months\n",
    "df.index.month"
   ]
  },
  {
   "cell_type": "code",
   "execution_count": 41,
   "id": "98dafaac",
   "metadata": {},
   "outputs": [
    {
     "data": {
      "text/plain": [
       "Int64Index([2000, 2000, 2000, 2000, 2000, 2000, 2000, 2000, 2000, 2000,\n",
       "            ...\n",
       "            2022, 2022, 2022, 2022, 2022, 2022, 2022, 2022, 2022, 2022],\n",
       "           dtype='int64', name='Date', length=5570)"
      ]
     },
     "execution_count": 41,
     "metadata": {},
     "output_type": "execute_result"
    }
   ],
   "source": [
    "# Get years\n",
    "df.index.year"
   ]
  },
  {
   "cell_type": "code",
   "execution_count": 42,
   "id": "2c7effab",
   "metadata": {},
   "outputs": [
    {
     "data": {
      "text/plain": [
       "Int64Index([ 3,  4,  5,  6,  7, 10, 11, 12, 13, 14,\n",
       "            ...\n",
       "             7,  8,  9, 10, 11, 14, 15, 16, 17, 18],\n",
       "           dtype='int64', name='Date', length=5570)"
      ]
     },
     "execution_count": 42,
     "metadata": {},
     "output_type": "execute_result"
    }
   ],
   "source": [
    "# Get days\n",
    "df.index.day"
   ]
  },
  {
   "cell_type": "markdown",
   "id": "15209ea0",
   "metadata": {},
   "source": [
    "We can `slice` the DataFrame by date"
   ]
  },
  {
   "cell_type": "code",
   "execution_count": 43,
   "id": "11451444",
   "metadata": {},
   "outputs": [
    {
     "data": {
      "text/html": [
       "<div>\n",
       "<style scoped>\n",
       "    .dataframe tbody tr th:only-of-type {\n",
       "        vertical-align: middle;\n",
       "    }\n",
       "\n",
       "    .dataframe tbody tr th {\n",
       "        vertical-align: top;\n",
       "    }\n",
       "\n",
       "    .dataframe thead th {\n",
       "        text-align: right;\n",
       "    }\n",
       "</style>\n",
       "<table border=\"1\" class=\"dataframe\">\n",
       "  <thead>\n",
       "    <tr style=\"text-align: right;\">\n",
       "      <th></th>\n",
       "      <th>Open</th>\n",
       "      <th>High</th>\n",
       "      <th>Low</th>\n",
       "      <th>Close</th>\n",
       "      <th>Adj Close</th>\n",
       "      <th>Volume</th>\n",
       "    </tr>\n",
       "    <tr>\n",
       "      <th>Date</th>\n",
       "      <th></th>\n",
       "      <th></th>\n",
       "      <th></th>\n",
       "      <th></th>\n",
       "      <th></th>\n",
       "      <th></th>\n",
       "    </tr>\n",
       "  </thead>\n",
       "  <tbody>\n",
       "    <tr>\n",
       "      <th>2012-01-03</th>\n",
       "      <td>14.621429</td>\n",
       "      <td>14.732143</td>\n",
       "      <td>14.607143</td>\n",
       "      <td>14.686786</td>\n",
       "      <td>12.575914</td>\n",
       "      <td>302220800</td>\n",
       "    </tr>\n",
       "    <tr>\n",
       "      <th>2012-01-04</th>\n",
       "      <td>14.642857</td>\n",
       "      <td>14.810000</td>\n",
       "      <td>14.617143</td>\n",
       "      <td>14.765714</td>\n",
       "      <td>12.643499</td>\n",
       "      <td>260022000</td>\n",
       "    </tr>\n",
       "    <tr>\n",
       "      <th>2012-01-05</th>\n",
       "      <td>14.819643</td>\n",
       "      <td>14.948214</td>\n",
       "      <td>14.738214</td>\n",
       "      <td>14.929643</td>\n",
       "      <td>12.783868</td>\n",
       "      <td>271269600</td>\n",
       "    </tr>\n",
       "    <tr>\n",
       "      <th>2012-01-06</th>\n",
       "      <td>14.991786</td>\n",
       "      <td>15.098214</td>\n",
       "      <td>14.972143</td>\n",
       "      <td>15.085714</td>\n",
       "      <td>12.917506</td>\n",
       "      <td>318292800</td>\n",
       "    </tr>\n",
       "    <tr>\n",
       "      <th>2012-01-09</th>\n",
       "      <td>15.196429</td>\n",
       "      <td>15.276786</td>\n",
       "      <td>15.048214</td>\n",
       "      <td>15.061786</td>\n",
       "      <td>12.897018</td>\n",
       "      <td>394024400</td>\n",
       "    </tr>\n",
       "    <tr>\n",
       "      <th>...</th>\n",
       "      <td>...</td>\n",
       "      <td>...</td>\n",
       "      <td>...</td>\n",
       "      <td>...</td>\n",
       "      <td>...</td>\n",
       "      <td>...</td>\n",
       "    </tr>\n",
       "    <tr>\n",
       "      <th>2012-05-21</th>\n",
       "      <td>19.089287</td>\n",
       "      <td>20.055000</td>\n",
       "      <td>19.073214</td>\n",
       "      <td>20.045713</td>\n",
       "      <td>17.164627</td>\n",
       "      <td>631106000</td>\n",
       "    </tr>\n",
       "    <tr>\n",
       "      <th>2012-05-22</th>\n",
       "      <td>20.341070</td>\n",
       "      <td>20.495714</td>\n",
       "      <td>19.735001</td>\n",
       "      <td>19.891787</td>\n",
       "      <td>17.032820</td>\n",
       "      <td>694870400</td>\n",
       "    </tr>\n",
       "    <tr>\n",
       "      <th>2012-05-23</th>\n",
       "      <td>19.910713</td>\n",
       "      <td>20.457144</td>\n",
       "      <td>19.758215</td>\n",
       "      <td>20.377144</td>\n",
       "      <td>17.448423</td>\n",
       "      <td>584897600</td>\n",
       "    </tr>\n",
       "    <tr>\n",
       "      <th>2012-05-24</th>\n",
       "      <td>20.566786</td>\n",
       "      <td>20.589287</td>\n",
       "      <td>20.043928</td>\n",
       "      <td>20.190001</td>\n",
       "      <td>17.288174</td>\n",
       "      <td>496230000</td>\n",
       "    </tr>\n",
       "    <tr>\n",
       "      <th>2012-05-25</th>\n",
       "      <td>20.163929</td>\n",
       "      <td>20.208929</td>\n",
       "      <td>19.945356</td>\n",
       "      <td>20.081785</td>\n",
       "      <td>17.195515</td>\n",
       "      <td>328507200</td>\n",
       "    </tr>\n",
       "  </tbody>\n",
       "</table>\n",
       "<p>101 rows × 6 columns</p>\n",
       "</div>"
      ],
      "text/plain": [
       "                 Open       High        Low      Close  Adj Close     Volume\n",
       "Date                                                                        \n",
       "2012-01-03  14.621429  14.732143  14.607143  14.686786  12.575914  302220800\n",
       "2012-01-04  14.642857  14.810000  14.617143  14.765714  12.643499  260022000\n",
       "2012-01-05  14.819643  14.948214  14.738214  14.929643  12.783868  271269600\n",
       "2012-01-06  14.991786  15.098214  14.972143  15.085714  12.917506  318292800\n",
       "2012-01-09  15.196429  15.276786  15.048214  15.061786  12.897018  394024400\n",
       "...               ...        ...        ...        ...        ...        ...\n",
       "2012-05-21  19.089287  20.055000  19.073214  20.045713  17.164627  631106000\n",
       "2012-05-22  20.341070  20.495714  19.735001  19.891787  17.032820  694870400\n",
       "2012-05-23  19.910713  20.457144  19.758215  20.377144  17.448423  584897600\n",
       "2012-05-24  20.566786  20.589287  20.043928  20.190001  17.288174  496230000\n",
       "2012-05-25  20.163929  20.208929  19.945356  20.081785  17.195515  328507200\n",
       "\n",
       "[101 rows x 6 columns]"
      ]
     },
     "execution_count": 43,
     "metadata": {},
     "output_type": "execute_result"
    }
   ],
   "source": [
    "df.loc['2012': '2012-05-28']"
   ]
  },
  {
   "cell_type": "code",
   "execution_count": 44,
   "id": "24e27cfd",
   "metadata": {},
   "outputs": [
    {
     "data": {
      "text/html": [
       "<div>\n",
       "<style scoped>\n",
       "    .dataframe tbody tr th:only-of-type {\n",
       "        vertical-align: middle;\n",
       "    }\n",
       "\n",
       "    .dataframe tbody tr th {\n",
       "        vertical-align: top;\n",
       "    }\n",
       "\n",
       "    .dataframe thead th {\n",
       "        text-align: right;\n",
       "    }\n",
       "</style>\n",
       "<table border=\"1\" class=\"dataframe\">\n",
       "  <thead>\n",
       "    <tr style=\"text-align: right;\">\n",
       "      <th></th>\n",
       "      <th>Open</th>\n",
       "      <th>High</th>\n",
       "      <th>Low</th>\n",
       "      <th>Close</th>\n",
       "      <th>Adj Close</th>\n",
       "      <th>Volume</th>\n",
       "      <th>Year</th>\n",
       "    </tr>\n",
       "    <tr>\n",
       "      <th>Date</th>\n",
       "      <th></th>\n",
       "      <th></th>\n",
       "      <th></th>\n",
       "      <th></th>\n",
       "      <th></th>\n",
       "      <th></th>\n",
       "      <th></th>\n",
       "    </tr>\n",
       "  </thead>\n",
       "  <tbody>\n",
       "    <tr>\n",
       "      <th>2000-01-03</th>\n",
       "      <td>0.936384</td>\n",
       "      <td>1.004464</td>\n",
       "      <td>0.907924</td>\n",
       "      <td>0.999442</td>\n",
       "      <td>0.855796</td>\n",
       "      <td>535796800</td>\n",
       "      <td>2000</td>\n",
       "    </tr>\n",
       "    <tr>\n",
       "      <th>2000-01-04</th>\n",
       "      <td>0.966518</td>\n",
       "      <td>0.987723</td>\n",
       "      <td>0.903460</td>\n",
       "      <td>0.915179</td>\n",
       "      <td>0.783644</td>\n",
       "      <td>512377600</td>\n",
       "      <td>2000</td>\n",
       "    </tr>\n",
       "    <tr>\n",
       "      <th>2000-01-05</th>\n",
       "      <td>0.926339</td>\n",
       "      <td>0.987165</td>\n",
       "      <td>0.919643</td>\n",
       "      <td>0.928571</td>\n",
       "      <td>0.795111</td>\n",
       "      <td>778321600</td>\n",
       "      <td>2000</td>\n",
       "    </tr>\n",
       "    <tr>\n",
       "      <th>2000-01-06</th>\n",
       "      <td>0.947545</td>\n",
       "      <td>0.955357</td>\n",
       "      <td>0.848214</td>\n",
       "      <td>0.848214</td>\n",
       "      <td>0.726304</td>\n",
       "      <td>767972800</td>\n",
       "      <td>2000</td>\n",
       "    </tr>\n",
       "    <tr>\n",
       "      <th>2000-01-07</th>\n",
       "      <td>0.861607</td>\n",
       "      <td>0.901786</td>\n",
       "      <td>0.852679</td>\n",
       "      <td>0.888393</td>\n",
       "      <td>0.760708</td>\n",
       "      <td>460734400</td>\n",
       "      <td>2000</td>\n",
       "    </tr>\n",
       "  </tbody>\n",
       "</table>\n",
       "</div>"
      ],
      "text/plain": [
       "                Open      High       Low     Close  Adj Close     Volume  Year\n",
       "Date                                                                          \n",
       "2000-01-03  0.936384  1.004464  0.907924  0.999442   0.855796  535796800  2000\n",
       "2000-01-04  0.966518  0.987723  0.903460  0.915179   0.783644  512377600  2000\n",
       "2000-01-05  0.926339  0.987165  0.919643  0.928571   0.795111  778321600  2000\n",
       "2000-01-06  0.947545  0.955357  0.848214  0.848214   0.726304  767972800  2000\n",
       "2000-01-07  0.861607  0.901786  0.852679  0.888393   0.760708  460734400  2000"
      ]
     },
     "execution_count": 44,
     "metadata": {},
     "output_type": "execute_result"
    }
   ],
   "source": [
    "# Create new column \"Year\"\n",
    "df['Year'] = df.index.year\n",
    "df.head()"
   ]
  },
  {
   "cell_type": "markdown",
   "id": "f9d189f6",
   "metadata": {},
   "source": [
    "`groupby` function gives us a simple way to aggregate values based on the entries of a specific column to generate summary statistics, etc"
   ]
  },
  {
   "cell_type": "code",
   "execution_count": 45,
   "id": "55725828",
   "metadata": {},
   "outputs": [
    {
     "data": {
      "text/html": [
       "<div>\n",
       "<style scoped>\n",
       "    .dataframe tbody tr th:only-of-type {\n",
       "        vertical-align: middle;\n",
       "    }\n",
       "\n",
       "    .dataframe tbody tr th {\n",
       "        vertical-align: top;\n",
       "    }\n",
       "\n",
       "    .dataframe thead th {\n",
       "        text-align: right;\n",
       "    }\n",
       "</style>\n",
       "<table border=\"1\" class=\"dataframe\">\n",
       "  <thead>\n",
       "    <tr style=\"text-align: right;\">\n",
       "      <th></th>\n",
       "      <th>Volume</th>\n",
       "    </tr>\n",
       "    <tr>\n",
       "      <th>Year</th>\n",
       "      <th></th>\n",
       "    </tr>\n",
       "  </thead>\n",
       "  <tbody>\n",
       "    <tr>\n",
       "      <th>2000</th>\n",
       "      <td>120301596800</td>\n",
       "    </tr>\n",
       "    <tr>\n",
       "      <th>2001</th>\n",
       "      <td>94657796800</td>\n",
       "    </tr>\n",
       "    <tr>\n",
       "      <th>2002</th>\n",
       "      <td>77013927200</td>\n",
       "    </tr>\n",
       "    <tr>\n",
       "      <th>2003</th>\n",
       "      <td>71230252800</td>\n",
       "    </tr>\n",
       "    <tr>\n",
       "      <th>2004</th>\n",
       "      <td>121801668800</td>\n",
       "    </tr>\n",
       "    <tr>\n",
       "      <th>2005</th>\n",
       "      <td>182400982400</td>\n",
       "    </tr>\n",
       "    <tr>\n",
       "      <th>2006</th>\n",
       "      <td>215698966000</td>\n",
       "    </tr>\n",
       "    <tr>\n",
       "      <th>2007</th>\n",
       "      <td>246995985600</td>\n",
       "    </tr>\n",
       "    <tr>\n",
       "      <th>2008</th>\n",
       "      <td>285981206000</td>\n",
       "    </tr>\n",
       "    <tr>\n",
       "      <th>2009</th>\n",
       "      <td>143253686800</td>\n",
       "    </tr>\n",
       "    <tr>\n",
       "      <th>2010</th>\n",
       "      <td>151024927200</td>\n",
       "    </tr>\n",
       "    <tr>\n",
       "      <th>2011</th>\n",
       "      <td>124059339600</td>\n",
       "    </tr>\n",
       "    <tr>\n",
       "      <th>2012</th>\n",
       "      <td>131964204400</td>\n",
       "    </tr>\n",
       "    <tr>\n",
       "      <th>2013</th>\n",
       "      <td>102421569600</td>\n",
       "    </tr>\n",
       "    <tr>\n",
       "      <th>2014</th>\n",
       "      <td>63657952400</td>\n",
       "    </tr>\n",
       "    <tr>\n",
       "      <th>2015</th>\n",
       "      <td>52264199600</td>\n",
       "    </tr>\n",
       "    <tr>\n",
       "      <th>2016</th>\n",
       "      <td>38729911200</td>\n",
       "    </tr>\n",
       "    <tr>\n",
       "      <th>2017</th>\n",
       "      <td>27243106000</td>\n",
       "    </tr>\n",
       "    <tr>\n",
       "      <th>2018</th>\n",
       "      <td>34156144800</td>\n",
       "    </tr>\n",
       "    <tr>\n",
       "      <th>2019</th>\n",
       "      <td>28254942800</td>\n",
       "    </tr>\n",
       "    <tr>\n",
       "      <th>2020</th>\n",
       "      <td>39863855600</td>\n",
       "    </tr>\n",
       "    <tr>\n",
       "      <th>2021</th>\n",
       "      <td>22810287000</td>\n",
       "    </tr>\n",
       "    <tr>\n",
       "      <th>2022</th>\n",
       "      <td>3227696200</td>\n",
       "    </tr>\n",
       "  </tbody>\n",
       "</table>\n",
       "</div>"
      ],
      "text/plain": [
       "            Volume\n",
       "Year              \n",
       "2000  120301596800\n",
       "2001   94657796800\n",
       "2002   77013927200\n",
       "2003   71230252800\n",
       "2004  121801668800\n",
       "2005  182400982400\n",
       "2006  215698966000\n",
       "2007  246995985600\n",
       "2008  285981206000\n",
       "2009  143253686800\n",
       "2010  151024927200\n",
       "2011  124059339600\n",
       "2012  131964204400\n",
       "2013  102421569600\n",
       "2014   63657952400\n",
       "2015   52264199600\n",
       "2016   38729911200\n",
       "2017   27243106000\n",
       "2018   34156144800\n",
       "2019   28254942800\n",
       "2020   39863855600\n",
       "2021   22810287000\n",
       "2022    3227696200"
      ]
     },
     "execution_count": 45,
     "metadata": {},
     "output_type": "execute_result"
    }
   ],
   "source": [
    "df[['Volume', 'Year']].groupby('Year').sum()"
   ]
  },
  {
   "cell_type": "code",
   "execution_count": 46,
   "id": "0c1ba1b5",
   "metadata": {},
   "outputs": [
    {
     "data": {
      "text/html": [
       "<div>\n",
       "<style scoped>\n",
       "    .dataframe tbody tr th:only-of-type {\n",
       "        vertical-align: middle;\n",
       "    }\n",
       "\n",
       "    .dataframe tbody tr th {\n",
       "        vertical-align: top;\n",
       "    }\n",
       "\n",
       "    .dataframe thead th {\n",
       "        text-align: right;\n",
       "    }\n",
       "</style>\n",
       "<table border=\"1\" class=\"dataframe\">\n",
       "  <thead>\n",
       "    <tr style=\"text-align: right;\">\n",
       "      <th></th>\n",
       "      <th>Open</th>\n",
       "      <th>High</th>\n",
       "      <th>Low</th>\n",
       "      <th>Close</th>\n",
       "      <th>Adj Close</th>\n",
       "      <th>Volume</th>\n",
       "      <th>Year</th>\n",
       "      <th>Month</th>\n",
       "    </tr>\n",
       "    <tr>\n",
       "      <th>Date</th>\n",
       "      <th></th>\n",
       "      <th></th>\n",
       "      <th></th>\n",
       "      <th></th>\n",
       "      <th></th>\n",
       "      <th></th>\n",
       "      <th></th>\n",
       "      <th></th>\n",
       "    </tr>\n",
       "  </thead>\n",
       "  <tbody>\n",
       "    <tr>\n",
       "      <th>2000-01-03</th>\n",
       "      <td>0.936384</td>\n",
       "      <td>1.004464</td>\n",
       "      <td>0.907924</td>\n",
       "      <td>0.999442</td>\n",
       "      <td>0.855796</td>\n",
       "      <td>535796800</td>\n",
       "      <td>2000</td>\n",
       "      <td>1</td>\n",
       "    </tr>\n",
       "    <tr>\n",
       "      <th>2000-01-04</th>\n",
       "      <td>0.966518</td>\n",
       "      <td>0.987723</td>\n",
       "      <td>0.903460</td>\n",
       "      <td>0.915179</td>\n",
       "      <td>0.783644</td>\n",
       "      <td>512377600</td>\n",
       "      <td>2000</td>\n",
       "      <td>1</td>\n",
       "    </tr>\n",
       "    <tr>\n",
       "      <th>2000-01-05</th>\n",
       "      <td>0.926339</td>\n",
       "      <td>0.987165</td>\n",
       "      <td>0.919643</td>\n",
       "      <td>0.928571</td>\n",
       "      <td>0.795111</td>\n",
       "      <td>778321600</td>\n",
       "      <td>2000</td>\n",
       "      <td>1</td>\n",
       "    </tr>\n",
       "    <tr>\n",
       "      <th>2000-01-06</th>\n",
       "      <td>0.947545</td>\n",
       "      <td>0.955357</td>\n",
       "      <td>0.848214</td>\n",
       "      <td>0.848214</td>\n",
       "      <td>0.726304</td>\n",
       "      <td>767972800</td>\n",
       "      <td>2000</td>\n",
       "      <td>1</td>\n",
       "    </tr>\n",
       "    <tr>\n",
       "      <th>2000-01-07</th>\n",
       "      <td>0.861607</td>\n",
       "      <td>0.901786</td>\n",
       "      <td>0.852679</td>\n",
       "      <td>0.888393</td>\n",
       "      <td>0.760708</td>\n",
       "      <td>460734400</td>\n",
       "      <td>2000</td>\n",
       "      <td>1</td>\n",
       "    </tr>\n",
       "  </tbody>\n",
       "</table>\n",
       "</div>"
      ],
      "text/plain": [
       "                Open      High       Low     Close  Adj Close     Volume  \\\n",
       "Date                                                                       \n",
       "2000-01-03  0.936384  1.004464  0.907924  0.999442   0.855796  535796800   \n",
       "2000-01-04  0.966518  0.987723  0.903460  0.915179   0.783644  512377600   \n",
       "2000-01-05  0.926339  0.987165  0.919643  0.928571   0.795111  778321600   \n",
       "2000-01-06  0.947545  0.955357  0.848214  0.848214   0.726304  767972800   \n",
       "2000-01-07  0.861607  0.901786  0.852679  0.888393   0.760708  460734400   \n",
       "\n",
       "            Year  Month  \n",
       "Date                     \n",
       "2000-01-03  2000      1  \n",
       "2000-01-04  2000      1  \n",
       "2000-01-05  2000      1  \n",
       "2000-01-06  2000      1  \n",
       "2000-01-07  2000      1  "
      ]
     },
     "execution_count": 46,
     "metadata": {},
     "output_type": "execute_result"
    }
   ],
   "source": [
    "# Create new column \"Month\"\n",
    "df['Month'] = df.index.month\n",
    "df.head()"
   ]
  },
  {
   "cell_type": "markdown",
   "id": "8e865a16",
   "metadata": {},
   "source": [
    "### Pivot Tables\n",
    "Pivot yables are a particular powerful way to manipulate a DataFrame to generate summary tables. For example, we can easily slice our data to create time series of the average monthly value for each year in our dataset"
   ]
  },
  {
   "cell_type": "code",
   "execution_count": 47,
   "id": "387185ef",
   "metadata": {},
   "outputs": [
    {
     "data": {
      "text/html": [
       "<div>\n",
       "<style scoped>\n",
       "    .dataframe tbody tr th:only-of-type {\n",
       "        vertical-align: middle;\n",
       "    }\n",
       "\n",
       "    .dataframe tbody tr th {\n",
       "        vertical-align: top;\n",
       "    }\n",
       "\n",
       "    .dataframe thead th {\n",
       "        text-align: right;\n",
       "    }\n",
       "</style>\n",
       "<table border=\"1\" class=\"dataframe\">\n",
       "  <thead>\n",
       "    <tr style=\"text-align: right;\">\n",
       "      <th>Year</th>\n",
       "      <th>2010</th>\n",
       "      <th>2011</th>\n",
       "      <th>2012</th>\n",
       "      <th>2013</th>\n",
       "      <th>2014</th>\n",
       "      <th>2015</th>\n",
       "      <th>2016</th>\n",
       "      <th>2017</th>\n",
       "      <th>2018</th>\n",
       "      <th>2019</th>\n",
       "      <th>2020</th>\n",
       "      <th>2021</th>\n",
       "      <th>2022</th>\n",
       "    </tr>\n",
       "    <tr>\n",
       "      <th>Month</th>\n",
       "      <th></th>\n",
       "      <th></th>\n",
       "      <th></th>\n",
       "      <th></th>\n",
       "      <th></th>\n",
       "      <th></th>\n",
       "      <th></th>\n",
       "      <th></th>\n",
       "      <th></th>\n",
       "      <th></th>\n",
       "      <th></th>\n",
       "      <th></th>\n",
       "      <th></th>\n",
       "    </tr>\n",
       "  </thead>\n",
       "  <tbody>\n",
       "    <tr>\n",
       "      <th>1</th>\n",
       "      <td>7.478910</td>\n",
       "      <td>12.057732</td>\n",
       "      <td>15.312857</td>\n",
       "      <td>17.860119</td>\n",
       "      <td>19.217891</td>\n",
       "      <td>27.791000</td>\n",
       "      <td>24.676579</td>\n",
       "      <td>29.773375</td>\n",
       "      <td>43.505357</td>\n",
       "      <td>38.402143</td>\n",
       "      <td>77.792738</td>\n",
       "      <td>133.101053</td>\n",
       "      <td>170.201500</td>\n",
       "    </tr>\n",
       "    <tr>\n",
       "      <th>2</th>\n",
       "      <td>7.074718</td>\n",
       "      <td>12.511786</td>\n",
       "      <td>17.671536</td>\n",
       "      <td>16.375131</td>\n",
       "      <td>18.775752</td>\n",
       "      <td>31.255921</td>\n",
       "      <td>23.924000</td>\n",
       "      <td>33.308684</td>\n",
       "      <td>41.819079</td>\n",
       "      <td>42.848027</td>\n",
       "      <td>77.578421</td>\n",
       "      <td>132.022631</td>\n",
       "      <td>172.362142</td>\n",
       "    </tr>\n",
       "    <tr>\n",
       "      <th>3</th>\n",
       "      <td>7.957034</td>\n",
       "      <td>12.430031</td>\n",
       "      <td>20.602078</td>\n",
       "      <td>15.786125</td>\n",
       "      <td>19.056905</td>\n",
       "      <td>31.616591</td>\n",
       "      <td>25.954205</td>\n",
       "      <td>35.090544</td>\n",
       "      <td>43.761786</td>\n",
       "      <td>45.805953</td>\n",
       "      <td>65.268410</td>\n",
       "      <td>122.087392</td>\n",
       "      <td>NaN</td>\n",
       "    </tr>\n",
       "    <tr>\n",
       "      <th>4</th>\n",
       "      <td>8.964337</td>\n",
       "      <td>12.189643</td>\n",
       "      <td>21.771696</td>\n",
       "      <td>14.991672</td>\n",
       "      <td>19.288639</td>\n",
       "      <td>31.883810</td>\n",
       "      <td>26.696429</td>\n",
       "      <td>35.757500</td>\n",
       "      <td>42.441310</td>\n",
       "      <td>49.966666</td>\n",
       "      <td>67.952857</td>\n",
       "      <td>131.672382</td>\n",
       "      <td>NaN</td>\n",
       "    </tr>\n",
       "    <tr>\n",
       "      <th>5</th>\n",
       "      <td>8.999268</td>\n",
       "      <td>12.213793</td>\n",
       "      <td>20.206607</td>\n",
       "      <td>15.942889</td>\n",
       "      <td>21.475068</td>\n",
       "      <td>32.176875</td>\n",
       "      <td>23.739643</td>\n",
       "      <td>37.991477</td>\n",
       "      <td>46.239091</td>\n",
       "      <td>47.734659</td>\n",
       "      <td>77.221375</td>\n",
       "      <td>127.035001</td>\n",
       "      <td>NaN</td>\n",
       "    </tr>\n",
       "    <tr>\n",
       "      <th>6</th>\n",
       "      <td>9.370925</td>\n",
       "      <td>11.854432</td>\n",
       "      <td>20.523605</td>\n",
       "      <td>15.284357</td>\n",
       "      <td>22.978163</td>\n",
       "      <td>32.003409</td>\n",
       "      <td>24.147159</td>\n",
       "      <td>37.053750</td>\n",
       "      <td>47.180119</td>\n",
       "      <td>48.166125</td>\n",
       "      <td>86.135341</td>\n",
       "      <td>129.489546</td>\n",
       "      <td>NaN</td>\n",
       "    </tr>\n",
       "    <tr>\n",
       "      <th>7</th>\n",
       "      <td>9.124269</td>\n",
       "      <td>13.234482</td>\n",
       "      <td>21.414643</td>\n",
       "      <td>15.294903</td>\n",
       "      <td>23.932273</td>\n",
       "      <td>31.362614</td>\n",
       "      <td>24.612750</td>\n",
       "      <td>37.024125</td>\n",
       "      <td>47.549048</td>\n",
       "      <td>51.262954</td>\n",
       "      <td>95.417500</td>\n",
       "      <td>144.570478</td>\n",
       "      <td>NaN</td>\n",
       "    </tr>\n",
       "    <tr>\n",
       "      <th>8</th>\n",
       "      <td>8.986088</td>\n",
       "      <td>13.473587</td>\n",
       "      <td>22.911708</td>\n",
       "      <td>17.287841</td>\n",
       "      <td>24.537381</td>\n",
       "      <td>28.359881</td>\n",
       "      <td>26.865761</td>\n",
       "      <td>39.736740</td>\n",
       "      <td>53.121739</td>\n",
       "      <td>51.315568</td>\n",
       "      <td>116.969881</td>\n",
       "      <td>147.850909</td>\n",
       "      <td>NaN</td>\n",
       "    </tr>\n",
       "    <tr>\n",
       "      <th>9</th>\n",
       "      <td>9.744320</td>\n",
       "      <td>14.013554</td>\n",
       "      <td>24.361372</td>\n",
       "      <td>17.241875</td>\n",
       "      <td>25.154524</td>\n",
       "      <td>28.253095</td>\n",
       "      <td>27.668334</td>\n",
       "      <td>39.527250</td>\n",
       "      <td>55.582763</td>\n",
       "      <td>54.431875</td>\n",
       "      <td>116.079048</td>\n",
       "      <td>149.001905</td>\n",
       "      <td>NaN</td>\n",
       "    </tr>\n",
       "    <tr>\n",
       "      <th>10</th>\n",
       "      <td>10.729524</td>\n",
       "      <td>14.169422</td>\n",
       "      <td>22.809541</td>\n",
       "      <td>18.005310</td>\n",
       "      <td>25.410000</td>\n",
       "      <td>28.231136</td>\n",
       "      <td>28.935952</td>\n",
       "      <td>39.338977</td>\n",
       "      <td>55.300000</td>\n",
       "      <td>58.732391</td>\n",
       "      <td>116.694090</td>\n",
       "      <td>144.971428</td>\n",
       "      <td>NaN</td>\n",
       "    </tr>\n",
       "    <tr>\n",
       "      <th>11</th>\n",
       "      <td>11.123095</td>\n",
       "      <td>13.795289</td>\n",
       "      <td>20.251378</td>\n",
       "      <td>18.686357</td>\n",
       "      <td>28.227368</td>\n",
       "      <td>29.554500</td>\n",
       "      <td>27.520595</td>\n",
       "      <td>43.122619</td>\n",
       "      <td>47.954881</td>\n",
       "      <td>65.423499</td>\n",
       "      <td>116.748501</td>\n",
       "      <td>153.603810</td>\n",
       "      <td>NaN</td>\n",
       "    </tr>\n",
       "    <tr>\n",
       "      <th>12</th>\n",
       "      <td>11.493263</td>\n",
       "      <td>14.027517</td>\n",
       "      <td>19.047714</td>\n",
       "      <td>20.023146</td>\n",
       "      <td>28.180455</td>\n",
       "      <td>28.073977</td>\n",
       "      <td>28.498928</td>\n",
       "      <td>42.930500</td>\n",
       "      <td>41.310789</td>\n",
       "      <td>68.847857</td>\n",
       "      <td>127.150455</td>\n",
       "      <td>173.155455</td>\n",
       "      <td>NaN</td>\n",
       "    </tr>\n",
       "  </tbody>\n",
       "</table>\n",
       "</div>"
      ],
      "text/plain": [
       "Year        2010       2011       2012       2013       2014       2015  \\\n",
       "Month                                                                     \n",
       "1       7.478910  12.057732  15.312857  17.860119  19.217891  27.791000   \n",
       "2       7.074718  12.511786  17.671536  16.375131  18.775752  31.255921   \n",
       "3       7.957034  12.430031  20.602078  15.786125  19.056905  31.616591   \n",
       "4       8.964337  12.189643  21.771696  14.991672  19.288639  31.883810   \n",
       "5       8.999268  12.213793  20.206607  15.942889  21.475068  32.176875   \n",
       "6       9.370925  11.854432  20.523605  15.284357  22.978163  32.003409   \n",
       "7       9.124269  13.234482  21.414643  15.294903  23.932273  31.362614   \n",
       "8       8.986088  13.473587  22.911708  17.287841  24.537381  28.359881   \n",
       "9       9.744320  14.013554  24.361372  17.241875  25.154524  28.253095   \n",
       "10     10.729524  14.169422  22.809541  18.005310  25.410000  28.231136   \n",
       "11     11.123095  13.795289  20.251378  18.686357  28.227368  29.554500   \n",
       "12     11.493263  14.027517  19.047714  20.023146  28.180455  28.073977   \n",
       "\n",
       "Year        2016       2017       2018       2019        2020        2021  \\\n",
       "Month                                                                       \n",
       "1      24.676579  29.773375  43.505357  38.402143   77.792738  133.101053   \n",
       "2      23.924000  33.308684  41.819079  42.848027   77.578421  132.022631   \n",
       "3      25.954205  35.090544  43.761786  45.805953   65.268410  122.087392   \n",
       "4      26.696429  35.757500  42.441310  49.966666   67.952857  131.672382   \n",
       "5      23.739643  37.991477  46.239091  47.734659   77.221375  127.035001   \n",
       "6      24.147159  37.053750  47.180119  48.166125   86.135341  129.489546   \n",
       "7      24.612750  37.024125  47.549048  51.262954   95.417500  144.570478   \n",
       "8      26.865761  39.736740  53.121739  51.315568  116.969881  147.850909   \n",
       "9      27.668334  39.527250  55.582763  54.431875  116.079048  149.001905   \n",
       "10     28.935952  39.338977  55.300000  58.732391  116.694090  144.971428   \n",
       "11     27.520595  43.122619  47.954881  65.423499  116.748501  153.603810   \n",
       "12     28.498928  42.930500  41.310789  68.847857  127.150455  173.155455   \n",
       "\n",
       "Year         2022  \n",
       "Month              \n",
       "1      170.201500  \n",
       "2      172.362142  \n",
       "3             NaN  \n",
       "4             NaN  \n",
       "5             NaN  \n",
       "6             NaN  \n",
       "7             NaN  \n",
       "8             NaN  \n",
       "9             NaN  \n",
       "10            NaN  \n",
       "11            NaN  \n",
       "12            NaN  "
      ]
     },
     "execution_count": 47,
     "metadata": {},
     "output_type": "execute_result"
    }
   ],
   "source": [
    "pd.pivot_table(df[df['Year']>=2010], index='Month', columns='Year', values='Open', aggfunc=np.mean)"
   ]
  },
  {
   "cell_type": "code",
   "execution_count": 48,
   "id": "4bb9c406",
   "metadata": {},
   "outputs": [
    {
     "data": {
      "image/png": "[encoded data removed]",
      "text/plain": [
       "<Figure size 432x288 with 1 Axes>"
      ]
     },
     "metadata": {
      "needs_background": "light"
     },
     "output_type": "display_data"
    }
   ],
   "source": [
    "pd.pivot_table(df[df['Year']>=2010], index='Month', columns='Year', values='Open', aggfunc=np.mean).plot();"
   ]
  },
  {
   "cell_type": "code",
   "execution_count": 49,
   "id": "36b23ac3",
   "metadata": {},
   "outputs": [
    {
     "data": {
      "image/png": "[encoded data removed]",
      "text/plain": [
       "<Figure size 432x288 with 1 Axes>"
      ]
     },
     "metadata": {
      "needs_background": "light"
     },
     "output_type": "display_data"
    }
   ],
   "source": [
    "df.plot.scatter(x='Open', y='Close');"
   ]
  },
  {
   "cell_type": "code",
   "execution_count": 50,
   "id": "aad610bc",
   "metadata": {},
   "outputs": [
    {
     "data": {
      "image/png": "[encoded data removed]",
      "text/plain": [
       "<Figure size 432x288 with 1 Axes>"
      ]
     },
     "metadata": {
      "needs_background": "light"
     },
     "output_type": "display_data"
    }
   ],
   "source": [
    "df.groupby('Year').mean().plot(y='High');"
   ]
  },
  {
   "cell_type": "markdown",
   "id": "13ce6c0e",
   "metadata": {},
   "source": [
    "### Merge & Join"
   ]
  },
  {
   "cell_type": "code",
   "execution_count": 51,
   "id": "8db007e4",
   "metadata": {},
   "outputs": [],
   "source": [
    "df_left = pd.DataFrame({'key_left': ['k1', 'k2', 'k3', 'k4', 'k5'], 'value': [1, 2, 3, 4, 5]})\n",
    "df_right = pd.DataFrame({'key_right': ['k1', 'k2', 'k6', 'k4', 'k5'], 'value': [6, 7, 8, 9, 10]})"
   ]
  },
  {
   "cell_type": "markdown",
   "id": "4dd04986",
   "metadata": {},
   "source": [
    "`merge` allows us to join DataFrames by specifying an arbitrary column on each of them"
   ]
  },
  {
   "cell_type": "code",
   "execution_count": 52,
   "id": "2de65b64",
   "metadata": {},
   "outputs": [
    {
     "data": {
      "text/html": [
       "<div>\n",
       "<style scoped>\n",
       "    .dataframe tbody tr th:only-of-type {\n",
       "        vertical-align: middle;\n",
       "    }\n",
       "\n",
       "    .dataframe tbody tr th {\n",
       "        vertical-align: top;\n",
       "    }\n",
       "\n",
       "    .dataframe thead th {\n",
       "        text-align: right;\n",
       "    }\n",
       "</style>\n",
       "<table border=\"1\" class=\"dataframe\">\n",
       "  <thead>\n",
       "    <tr style=\"text-align: right;\">\n",
       "      <th></th>\n",
       "      <th>key_left</th>\n",
       "      <th>value_x</th>\n",
       "      <th>key_right</th>\n",
       "      <th>value_y</th>\n",
       "    </tr>\n",
       "  </thead>\n",
       "  <tbody>\n",
       "    <tr>\n",
       "      <th>0</th>\n",
       "      <td>k1</td>\n",
       "      <td>1.0</td>\n",
       "      <td>k1</td>\n",
       "      <td>6.0</td>\n",
       "    </tr>\n",
       "    <tr>\n",
       "      <th>1</th>\n",
       "      <td>k2</td>\n",
       "      <td>2.0</td>\n",
       "      <td>k2</td>\n",
       "      <td>7.0</td>\n",
       "    </tr>\n",
       "    <tr>\n",
       "      <th>2</th>\n",
       "      <td>k3</td>\n",
       "      <td>3.0</td>\n",
       "      <td>NaN</td>\n",
       "      <td>NaN</td>\n",
       "    </tr>\n",
       "    <tr>\n",
       "      <th>3</th>\n",
       "      <td>k4</td>\n",
       "      <td>4.0</td>\n",
       "      <td>k4</td>\n",
       "      <td>9.0</td>\n",
       "    </tr>\n",
       "    <tr>\n",
       "      <th>4</th>\n",
       "      <td>k5</td>\n",
       "      <td>5.0</td>\n",
       "      <td>k5</td>\n",
       "      <td>10.0</td>\n",
       "    </tr>\n",
       "    <tr>\n",
       "      <th>5</th>\n",
       "      <td>NaN</td>\n",
       "      <td>NaN</td>\n",
       "      <td>k6</td>\n",
       "      <td>8.0</td>\n",
       "    </tr>\n",
       "  </tbody>\n",
       "</table>\n",
       "</div>"
      ],
      "text/plain": [
       "  key_left  value_x key_right  value_y\n",
       "0       k1      1.0        k1      6.0\n",
       "1       k2      2.0        k2      7.0\n",
       "2       k3      3.0       NaN      NaN\n",
       "3       k4      4.0        k4      9.0\n",
       "4       k5      5.0        k5     10.0\n",
       "5      NaN      NaN        k6      8.0"
      ]
     },
     "execution_count": 52,
     "metadata": {},
     "output_type": "execute_result"
    }
   ],
   "source": [
    "df_left.merge(df_right, left_on='key_left', right_on='key_right', how='outer')"
   ]
  },
  {
   "cell_type": "markdown",
   "id": "cd4746e7",
   "metadata": {},
   "source": [
    "On the other hand, join performs the join using the respective indices"
   ]
  },
  {
   "cell_type": "code",
   "execution_count": 53,
   "id": "ed962625",
   "metadata": {},
   "outputs": [
    {
     "data": {
      "text/html": [
       "<div>\n",
       "<style scoped>\n",
       "    .dataframe tbody tr th:only-of-type {\n",
       "        vertical-align: middle;\n",
       "    }\n",
       "\n",
       "    .dataframe tbody tr th {\n",
       "        vertical-align: top;\n",
       "    }\n",
       "\n",
       "    .dataframe thead th {\n",
       "        text-align: right;\n",
       "    }\n",
       "</style>\n",
       "<table border=\"1\" class=\"dataframe\">\n",
       "  <thead>\n",
       "    <tr style=\"text-align: right;\">\n",
       "      <th></th>\n",
       "      <th>key_left</th>\n",
       "      <th>value</th>\n",
       "    </tr>\n",
       "  </thead>\n",
       "  <tbody>\n",
       "    <tr>\n",
       "      <th>0</th>\n",
       "      <td>k1</td>\n",
       "      <td>1</td>\n",
       "    </tr>\n",
       "    <tr>\n",
       "      <th>1</th>\n",
       "      <td>k2</td>\n",
       "      <td>2</td>\n",
       "    </tr>\n",
       "    <tr>\n",
       "      <th>2</th>\n",
       "      <td>k3</td>\n",
       "      <td>3</td>\n",
       "    </tr>\n",
       "    <tr>\n",
       "      <th>3</th>\n",
       "      <td>k4</td>\n",
       "      <td>4</td>\n",
       "    </tr>\n",
       "    <tr>\n",
       "      <th>4</th>\n",
       "      <td>k5</td>\n",
       "      <td>5</td>\n",
       "    </tr>\n",
       "  </tbody>\n",
       "</table>\n",
       "</div>"
      ],
      "text/plain": [
       "  key_left  value\n",
       "0       k1      1\n",
       "1       k2      2\n",
       "2       k3      3\n",
       "3       k4      4\n",
       "4       k5      5"
      ]
     },
     "execution_count": 53,
     "metadata": {},
     "output_type": "execute_result"
    }
   ],
   "source": [
    "df_left"
   ]
  },
  {
   "cell_type": "code",
   "execution_count": 54,
   "id": "d683b1bf",
   "metadata": {},
   "outputs": [
    {
     "data": {
      "text/html": [
       "<div>\n",
       "<style scoped>\n",
       "    .dataframe tbody tr th:only-of-type {\n",
       "        vertical-align: middle;\n",
       "    }\n",
       "\n",
       "    .dataframe tbody tr th {\n",
       "        vertical-align: top;\n",
       "    }\n",
       "\n",
       "    .dataframe thead th {\n",
       "        text-align: right;\n",
       "    }\n",
       "</style>\n",
       "<table border=\"1\" class=\"dataframe\">\n",
       "  <thead>\n",
       "    <tr style=\"text-align: right;\">\n",
       "      <th></th>\n",
       "      <th>key_right</th>\n",
       "      <th>value</th>\n",
       "    </tr>\n",
       "  </thead>\n",
       "  <tbody>\n",
       "    <tr>\n",
       "      <th>0</th>\n",
       "      <td>k1</td>\n",
       "      <td>6</td>\n",
       "    </tr>\n",
       "    <tr>\n",
       "      <th>1</th>\n",
       "      <td>k2</td>\n",
       "      <td>7</td>\n",
       "    </tr>\n",
       "    <tr>\n",
       "      <th>2</th>\n",
       "      <td>k6</td>\n",
       "      <td>8</td>\n",
       "    </tr>\n",
       "    <tr>\n",
       "      <th>3</th>\n",
       "      <td>k4</td>\n",
       "      <td>9</td>\n",
       "    </tr>\n",
       "    <tr>\n",
       "      <th>4</th>\n",
       "      <td>k5</td>\n",
       "      <td>10</td>\n",
       "    </tr>\n",
       "  </tbody>\n",
       "</table>\n",
       "</div>"
      ],
      "text/plain": [
       "  key_right  value\n",
       "0        k1      6\n",
       "1        k2      7\n",
       "2        k6      8\n",
       "3        k4      9\n",
       "4        k5     10"
      ]
     },
     "execution_count": 54,
     "metadata": {},
     "output_type": "execute_result"
    }
   ],
   "source": [
    "df_right"
   ]
  },
  {
   "cell_type": "code",
   "execution_count": 55,
   "id": "21a5598a",
   "metadata": {},
   "outputs": [],
   "source": [
    "df_left.set_index('key_left', inplace=True)\n",
    "df_right.set_index('key_right', inplace=True)"
   ]
  },
  {
   "cell_type": "code",
   "execution_count": 56,
   "id": "a57f8a44",
   "metadata": {},
   "outputs": [
    {
     "data": {
      "text/html": [
       "<div>\n",
       "<style scoped>\n",
       "    .dataframe tbody tr th:only-of-type {\n",
       "        vertical-align: middle;\n",
       "    }\n",
       "\n",
       "    .dataframe tbody tr th {\n",
       "        vertical-align: top;\n",
       "    }\n",
       "\n",
       "    .dataframe thead th {\n",
       "        text-align: right;\n",
       "    }\n",
       "</style>\n",
       "<table border=\"1\" class=\"dataframe\">\n",
       "  <thead>\n",
       "    <tr style=\"text-align: right;\">\n",
       "      <th></th>\n",
       "      <th>value</th>\n",
       "    </tr>\n",
       "    <tr>\n",
       "      <th>key_left</th>\n",
       "      <th></th>\n",
       "    </tr>\n",
       "  </thead>\n",
       "  <tbody>\n",
       "    <tr>\n",
       "      <th>k1</th>\n",
       "      <td>1</td>\n",
       "    </tr>\n",
       "    <tr>\n",
       "      <th>k2</th>\n",
       "      <td>2</td>\n",
       "    </tr>\n",
       "    <tr>\n",
       "      <th>k3</th>\n",
       "      <td>3</td>\n",
       "    </tr>\n",
       "    <tr>\n",
       "      <th>k4</th>\n",
       "      <td>4</td>\n",
       "    </tr>\n",
       "    <tr>\n",
       "      <th>k5</th>\n",
       "      <td>5</td>\n",
       "    </tr>\n",
       "  </tbody>\n",
       "</table>\n",
       "</div>"
      ],
      "text/plain": [
       "          value\n",
       "key_left       \n",
       "k1            1\n",
       "k2            2\n",
       "k3            3\n",
       "k4            4\n",
       "k5            5"
      ]
     },
     "execution_count": 56,
     "metadata": {},
     "output_type": "execute_result"
    }
   ],
   "source": [
    "df_left"
   ]
  },
  {
   "cell_type": "code",
   "execution_count": 57,
   "id": "6e665998",
   "metadata": {},
   "outputs": [
    {
     "data": {
      "text/html": [
       "<div>\n",
       "<style scoped>\n",
       "    .dataframe tbody tr th:only-of-type {\n",
       "        vertical-align: middle;\n",
       "    }\n",
       "\n",
       "    .dataframe tbody tr th {\n",
       "        vertical-align: top;\n",
       "    }\n",
       "\n",
       "    .dataframe thead th {\n",
       "        text-align: right;\n",
       "    }\n",
       "</style>\n",
       "<table border=\"1\" class=\"dataframe\">\n",
       "  <thead>\n",
       "    <tr style=\"text-align: right;\">\n",
       "      <th></th>\n",
       "      <th>value</th>\n",
       "    </tr>\n",
       "    <tr>\n",
       "      <th>key_right</th>\n",
       "      <th></th>\n",
       "    </tr>\n",
       "  </thead>\n",
       "  <tbody>\n",
       "    <tr>\n",
       "      <th>k1</th>\n",
       "      <td>6</td>\n",
       "    </tr>\n",
       "    <tr>\n",
       "      <th>k2</th>\n",
       "      <td>7</td>\n",
       "    </tr>\n",
       "    <tr>\n",
       "      <th>k6</th>\n",
       "      <td>8</td>\n",
       "    </tr>\n",
       "    <tr>\n",
       "      <th>k4</th>\n",
       "      <td>9</td>\n",
       "    </tr>\n",
       "    <tr>\n",
       "      <th>k5</th>\n",
       "      <td>10</td>\n",
       "    </tr>\n",
       "  </tbody>\n",
       "</table>\n",
       "</div>"
      ],
      "text/plain": [
       "           value\n",
       "key_right       \n",
       "k1             6\n",
       "k2             7\n",
       "k6             8\n",
       "k4             9\n",
       "k5            10"
      ]
     },
     "execution_count": 57,
     "metadata": {},
     "output_type": "execute_result"
    }
   ],
   "source": [
    "df_right"
   ]
  },
  {
   "cell_type": "code",
   "execution_count": 58,
   "id": "05f3a093",
   "metadata": {},
   "outputs": [
    {
     "data": {
      "text/html": [
       "<div>\n",
       "<style scoped>\n",
       "    .dataframe tbody tr th:only-of-type {\n",
       "        vertical-align: middle;\n",
       "    }\n",
       "\n",
       "    .dataframe tbody tr th {\n",
       "        vertical-align: top;\n",
       "    }\n",
       "\n",
       "    .dataframe thead th {\n",
       "        text-align: right;\n",
       "    }\n",
       "</style>\n",
       "<table border=\"1\" class=\"dataframe\">\n",
       "  <thead>\n",
       "    <tr style=\"text-align: right;\">\n",
       "      <th></th>\n",
       "      <th>value_l</th>\n",
       "      <th>value_r</th>\n",
       "    </tr>\n",
       "  </thead>\n",
       "  <tbody>\n",
       "    <tr>\n",
       "      <th>k1</th>\n",
       "      <td>1</td>\n",
       "      <td>6</td>\n",
       "    </tr>\n",
       "    <tr>\n",
       "      <th>k2</th>\n",
       "      <td>2</td>\n",
       "      <td>7</td>\n",
       "    </tr>\n",
       "    <tr>\n",
       "      <th>k4</th>\n",
       "      <td>4</td>\n",
       "      <td>9</td>\n",
       "    </tr>\n",
       "    <tr>\n",
       "      <th>k5</th>\n",
       "      <td>5</td>\n",
       "      <td>10</td>\n",
       "    </tr>\n",
       "  </tbody>\n",
       "</table>\n",
       "</div>"
      ],
      "text/plain": [
       "    value_l  value_r\n",
       "k1        1        6\n",
       "k2        2        7\n",
       "k4        4        9\n",
       "k5        5       10"
      ]
     },
     "execution_count": 58,
     "metadata": {},
     "output_type": "execute_result"
    }
   ],
   "source": [
    "df_left.join(df_right, lsuffix='_l', rsuffix='_r', how='inner')"
   ]
  }
 ],
 "metadata": {
  "kernelspec": {
   "display_name": "Python 3 (ipykernel)",
   "language": "python",
   "name": "python3"
  },
  "language_info": {
   "codemirror_mode": {
    "name": "ipython",
    "version": 3
   },
   "file_extension": ".py",
   "mimetype": "text/x-python",
   "name": "python",
   "nbconvert_exporter": "python",
   "pygments_lexer": "ipython3",
   "version": "3.9.7"
  }
 },
 "nbformat": 4,
 "nbformat_minor": 5
}
